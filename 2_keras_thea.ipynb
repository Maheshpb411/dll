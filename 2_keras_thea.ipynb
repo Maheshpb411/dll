{
 "cells": [
  {
   "cell_type": "code",
   "execution_count": 1,
   "id": "9853730c",
   "metadata": {},
   "outputs": [],
   "source": [
    "from numpy import loadtxt\n",
    "from tensorflow.keras.models import Sequential\n",
    "from tensorflow.keras.layers import Dense"
   ]
  },
  {
   "cell_type": "code",
   "execution_count": 2,
   "id": "40b83c7d",
   "metadata": {},
   "outputs": [
    {
     "data": {
      "text/plain": [
       "array([[  6.   , 148.   ,  72.   , ...,   0.627,  50.   ,   1.   ],\n",
       "       [  1.   ,  85.   ,  66.   , ...,   0.351,  31.   ,   0.   ],\n",
       "       [  8.   , 183.   ,  64.   , ...,   0.672,  32.   ,   1.   ],\n",
       "       ...,\n",
       "       [  5.   , 121.   ,  72.   , ...,   0.245,  30.   ,   0.   ],\n",
       "       [  1.   , 126.   ,  60.   , ...,   0.349,  47.   ,   1.   ],\n",
       "       [  1.   ,  93.   ,  70.   , ...,   0.315,  23.   ,   0.   ]])"
      ]
     },
     "execution_count": 2,
     "metadata": {},
     "output_type": "execute_result"
    }
   ],
   "source": [
    "dataset = loadtxt('D:/dl/pima-indians-diabetes.csv', delimiter = ',')\n",
    "dataset"
   ]
  },
  {
   "cell_type": "code",
   "execution_count": 3,
   "id": "8447c7b1",
   "metadata": {},
   "outputs": [
    {
     "name": "stdout",
     "output_type": "stream",
     "text": [
      "<class 'numpy.ndarray'>\n",
      "(768, 8)\n"
     ]
    }
   ],
   "source": [
    "x = dataset[:, 0:8]\n",
    "print(type(x))\n",
    "print(x.shape)"
   ]
  },
  {
   "cell_type": "code",
   "execution_count": 4,
   "id": "f486869b",
   "metadata": {},
   "outputs": [
    {
     "name": "stdout",
     "output_type": "stream",
     "text": [
      "[1. 0. 1. 0. 1. 0. 1. 0. 1. 1. 0. 1. 0. 1. 1. 1. 1. 1. 0. 1. 0. 0. 1. 1.\n",
      " 1. 1. 1. 0. 0. 0. 0. 1. 0. 0. 0. 0. 0. 1. 1. 1. 0. 0. 0. 1. 0. 1. 0. 0.\n",
      " 1. 0. 0. 0. 0. 1. 0. 0. 1. 0. 0. 0. 0. 1. 0. 0. 1. 0. 1. 0. 0. 0. 1. 0.\n",
      " 1. 0. 0. 0. 0. 0. 1. 0. 0. 0. 0. 0. 1. 0. 0. 0. 1. 0. 0. 0. 0. 1. 0. 0.\n",
      " 0. 0. 0. 1. 1. 0. 0. 0. 0. 0. 0. 0. 0. 1. 1. 1. 0. 0. 1. 1. 1. 0. 0. 0.\n",
      " 1. 0. 0. 0. 1. 1. 0. 0. 1. 1. 1. 1. 1. 0. 0. 0. 0. 0. 0. 0. 0. 0. 0. 1.\n",
      " 0. 0. 0. 0. 0. 0. 0. 0. 1. 0. 1. 1. 0. 0. 0. 1. 0. 0. 0. 0. 1. 1. 0. 0.\n",
      " 0. 0. 1. 1. 0. 0. 0. 1. 0. 1. 0. 1. 0. 0. 0. 0. 0. 1. 1. 1. 1. 1. 0. 0.\n",
      " 1. 1. 0. 1. 0. 1. 1. 1. 0. 0. 0. 0. 0. 0. 1. 1. 0. 1. 0. 0. 0. 1. 1. 1.\n",
      " 1. 0. 1. 1. 1. 1. 0. 0. 0. 0. 0. 1. 0. 0. 1. 1. 0. 0. 0. 1. 1. 1. 1. 0.\n",
      " 0. 0. 1. 1. 0. 1. 0. 0. 0. 0. 0. 0. 0. 0. 1. 1. 0. 0. 0. 1. 0. 1. 0. 0.\n",
      " 1. 0. 1. 0. 0. 1. 1. 0. 0. 0. 0. 0. 1. 0. 0. 0. 1. 0. 0. 1. 1. 0. 0. 1.\n",
      " 0. 0. 0. 1. 1. 1. 0. 0. 1. 0. 1. 0. 1. 1. 0. 1. 0. 0. 1. 0. 1. 1. 0. 0.\n",
      " 1. 0. 1. 0. 0. 1. 0. 1. 0. 1. 1. 1. 0. 0. 1. 0. 1. 0. 0. 0. 1. 0. 0. 0.\n",
      " 0. 1. 1. 1. 0. 0. 0. 0. 0. 0. 0. 0. 0. 1. 0. 0. 0. 0. 0. 1. 1. 1. 0. 1.\n",
      " 1. 0. 0. 1. 0. 0. 1. 0. 0. 1. 1. 0. 0. 0. 0. 1. 0. 0. 1. 0. 0. 0. 0. 0.\n",
      " 0. 0. 1. 1. 1. 0. 0. 1. 0. 0. 1. 0. 0. 1. 0. 1. 1. 0. 1. 0. 1. 0. 1. 0.\n",
      " 1. 1. 0. 0. 0. 0. 1. 1. 0. 1. 0. 1. 0. 0. 0. 0. 1. 1. 0. 1. 0. 1. 0. 0.\n",
      " 0. 0. 0. 1. 0. 0. 0. 0. 1. 0. 0. 1. 1. 1. 0. 0. 1. 0. 0. 1. 0. 0. 0. 1.\n",
      " 0. 0. 1. 0. 0. 0. 0. 0. 0. 0. 0. 0. 1. 0. 0. 0. 0. 0. 0. 0. 1. 0. 0. 0.\n",
      " 1. 0. 0. 0. 1. 1. 0. 0. 0. 0. 0. 0. 0. 1. 0. 0. 0. 0. 1. 0. 0. 0. 1. 0.\n",
      " 0. 0. 1. 0. 0. 0. 1. 0. 0. 0. 0. 1. 1. 0. 0. 0. 0. 0. 0. 1. 0. 0. 0. 0.\n",
      " 0. 0. 0. 0. 0. 0. 0. 1. 0. 0. 0. 1. 1. 1. 1. 0. 0. 1. 1. 0. 0. 0. 0. 0.\n",
      " 0. 0. 0. 0. 0. 0. 0. 0. 1. 1. 0. 0. 0. 0. 0. 0. 0. 1. 0. 0. 0. 0. 0. 0.\n",
      " 0. 1. 0. 1. 1. 0. 0. 0. 1. 0. 1. 0. 1. 0. 1. 0. 1. 0. 0. 1. 0. 0. 1. 0.\n",
      " 0. 0. 0. 1. 1. 0. 1. 0. 0. 0. 0. 1. 1. 0. 1. 0. 0. 0. 1. 1. 0. 0. 0. 0.\n",
      " 0. 0. 0. 0. 0. 0. 1. 0. 0. 0. 0. 1. 0. 0. 1. 0. 0. 0. 1. 0. 0. 0. 1. 1.\n",
      " 1. 0. 0. 0. 0. 0. 0. 1. 0. 0. 0. 1. 0. 1. 1. 1. 1. 0. 1. 1. 0. 0. 0. 0.\n",
      " 0. 0. 0. 1. 1. 0. 1. 0. 0. 1. 0. 1. 0. 0. 0. 0. 0. 1. 0. 1. 0. 1. 0. 1.\n",
      " 1. 0. 0. 0. 0. 1. 1. 0. 0. 0. 1. 0. 1. 1. 0. 0. 1. 0. 0. 1. 1. 0. 0. 1.\n",
      " 0. 0. 1. 0. 0. 0. 0. 0. 0. 0. 1. 1. 1. 0. 0. 0. 0. 0. 0. 1. 1. 0. 0. 1.\n",
      " 0. 0. 1. 0. 1. 1. 1. 0. 0. 1. 1. 1. 0. 1. 0. 1. 0. 1. 0. 0. 0. 0. 1. 0.]\n"
     ]
    }
   ],
   "source": [
    "y = dataset[:, 8]\n",
    "print(y)"
   ]
  },
  {
   "cell_type": "code",
   "execution_count": 5,
   "id": "a1ac0fc5",
   "metadata": {},
   "outputs": [],
   "source": [
    "model = Sequential()"
   ]
  },
  {
   "cell_type": "code",
   "execution_count": 6,
   "id": "542eb182",
   "metadata": {},
   "outputs": [],
   "source": [
    "model.add(Dense(12, input_shape=(8,), activation='relu'))"
   ]
  },
  {
   "cell_type": "code",
   "execution_count": 7,
   "id": "54a160c8",
   "metadata": {},
   "outputs": [],
   "source": [
    "model.add(Dense(8, activation = 'relu'))"
   ]
  },
  {
   "cell_type": "code",
   "execution_count": 8,
   "id": "535bc829",
   "metadata": {},
   "outputs": [],
   "source": [
    "model.add(Dense(1, activation = 'sigmoid'))"
   ]
  },
  {
   "cell_type": "code",
   "execution_count": 9,
   "id": "18d3d2a8",
   "metadata": {},
   "outputs": [],
   "source": [
    "model.compile(loss = 'binary_crossentropy', optimizer = 'adam', metrics = ['accuracy'])"
   ]
  },
  {
   "cell_type": "code",
   "execution_count": 10,
   "id": "6887ba40",
   "metadata": {},
   "outputs": [
    {
     "name": "stdout",
     "output_type": "stream",
     "text": [
      "Epoch 1/150\n",
      "77/77 [==============================] - 1s 4ms/step - loss: 7.8288 - accuracy: 0.4128\n",
      "Epoch 2/150\n",
      "77/77 [==============================] - 0s 3ms/step - loss: 0.9306 - accuracy: 0.6185\n",
      "Epoch 3/150\n",
      "77/77 [==============================] - 0s 3ms/step - loss: 0.7796 - accuracy: 0.6458\n",
      "Epoch 4/150\n",
      "77/77 [==============================] - 0s 3ms/step - loss: 0.7452 - accuracy: 0.6510\n",
      "Epoch 5/150\n",
      "77/77 [==============================] - 0s 3ms/step - loss: 0.7216 - accuracy: 0.6576\n",
      "Epoch 6/150\n",
      "77/77 [==============================] - 0s 3ms/step - loss: 0.6993 - accuracy: 0.6641\n",
      "Epoch 7/150\n",
      "77/77 [==============================] - 0s 3ms/step - loss: 0.6887 - accuracy: 0.6654\n",
      "Epoch 8/150\n",
      "77/77 [==============================] - 0s 2ms/step - loss: 0.6808 - accuracy: 0.6667\n",
      "Epoch 9/150\n",
      "77/77 [==============================] - 0s 2ms/step - loss: 0.6738 - accuracy: 0.6654\n",
      "Epoch 10/150\n",
      "77/77 [==============================] - 0s 3ms/step - loss: 0.6684 - accuracy: 0.6680\n",
      "Epoch 11/150\n",
      "77/77 [==============================] - 0s 3ms/step - loss: 0.6632 - accuracy: 0.6706\n",
      "Epoch 12/150\n",
      "77/77 [==============================] - 0s 3ms/step - loss: 0.6579 - accuracy: 0.6719\n",
      "Epoch 13/150\n",
      "77/77 [==============================] - 0s 3ms/step - loss: 0.6554 - accuracy: 0.6719\n",
      "Epoch 14/150\n",
      "77/77 [==============================] - 0s 3ms/step - loss: 0.6506 - accuracy: 0.6719\n",
      "Epoch 15/150\n",
      "77/77 [==============================] - 0s 4ms/step - loss: 0.6470 - accuracy: 0.6706\n",
      "Epoch 16/150\n",
      "77/77 [==============================] - 0s 4ms/step - loss: 0.6457 - accuracy: 0.6693\n",
      "Epoch 17/150\n",
      "77/77 [==============================] - 0s 3ms/step - loss: 0.6416 - accuracy: 0.6719\n",
      "Epoch 18/150\n",
      "77/77 [==============================] - 0s 6ms/step - loss: 0.6380 - accuracy: 0.6693\n",
      "Epoch 19/150\n",
      "77/77 [==============================] - 0s 5ms/step - loss: 0.6349 - accuracy: 0.6706\n",
      "Epoch 20/150\n",
      "77/77 [==============================] - 0s 6ms/step - loss: 0.6324 - accuracy: 0.6732\n",
      "Epoch 21/150\n",
      "77/77 [==============================] - 0s 5ms/step - loss: 0.6267 - accuracy: 0.6758\n",
      "Epoch 22/150\n",
      "77/77 [==============================] - 1s 6ms/step - loss: 0.6263 - accuracy: 0.6745\n",
      "Epoch 23/150\n",
      "77/77 [==============================] - 0s 3ms/step - loss: 0.6249 - accuracy: 0.6758\n",
      "Epoch 24/150\n",
      "77/77 [==============================] - 0s 5ms/step - loss: 0.6249 - accuracy: 0.6745\n",
      "Epoch 25/150\n",
      "77/77 [==============================] - 0s 5ms/step - loss: 0.6284 - accuracy: 0.6706\n",
      "Epoch 26/150\n",
      "77/77 [==============================] - 0s 4ms/step - loss: 0.6235 - accuracy: 0.6732\n",
      "Epoch 27/150\n",
      "77/77 [==============================] - 0s 4ms/step - loss: 0.6240 - accuracy: 0.6745\n",
      "Epoch 28/150\n",
      "77/77 [==============================] - 0s 4ms/step - loss: 0.6239 - accuracy: 0.6745\n",
      "Epoch 29/150\n",
      "77/77 [==============================] - 0s 3ms/step - loss: 0.6215 - accuracy: 0.6784\n",
      "Epoch 30/150\n",
      "77/77 [==============================] - 0s 4ms/step - loss: 0.6219 - accuracy: 0.6771\n",
      "Epoch 31/150\n",
      "77/77 [==============================] - 0s 4ms/step - loss: 0.6203 - accuracy: 0.6849\n",
      "Epoch 32/150\n",
      "77/77 [==============================] - 0s 2ms/step - loss: 0.6216 - accuracy: 0.6771\n",
      "Epoch 33/150\n",
      "77/77 [==============================] - 0s 3ms/step - loss: 0.6218 - accuracy: 0.6771\n",
      "Epoch 34/150\n",
      "77/77 [==============================] - 0s 3ms/step - loss: 0.6206 - accuracy: 0.6745\n",
      "Epoch 35/150\n",
      "77/77 [==============================] - 0s 3ms/step - loss: 0.6235 - accuracy: 0.6784\n",
      "Epoch 36/150\n",
      "77/77 [==============================] - 0s 3ms/step - loss: 0.6217 - accuracy: 0.6745\n",
      "Epoch 37/150\n",
      "77/77 [==============================] - 0s 2ms/step - loss: 0.6207 - accuracy: 0.6771\n",
      "Epoch 38/150\n",
      "77/77 [==============================] - 0s 2ms/step - loss: 0.6226 - accuracy: 0.6784\n",
      "Epoch 39/150\n",
      "77/77 [==============================] - 0s 2ms/step - loss: 0.6185 - accuracy: 0.6797\n",
      "Epoch 40/150\n",
      "77/77 [==============================] - 0s 2ms/step - loss: 0.6164 - accuracy: 0.6862\n",
      "Epoch 41/150\n",
      "77/77 [==============================] - 0s 3ms/step - loss: 0.6205 - accuracy: 0.6810\n",
      "Epoch 42/150\n",
      "77/77 [==============================] - 0s 3ms/step - loss: 0.6197 - accuracy: 0.6758\n",
      "Epoch 43/150\n",
      "77/77 [==============================] - 0s 4ms/step - loss: 0.6212 - accuracy: 0.6771\n",
      "Epoch 44/150\n",
      "77/77 [==============================] - 0s 3ms/step - loss: 0.6196 - accuracy: 0.6758\n",
      "Epoch 45/150\n",
      "77/77 [==============================] - 0s 6ms/step - loss: 0.6196 - accuracy: 0.6784\n",
      "Epoch 46/150\n",
      "77/77 [==============================] - 0s 5ms/step - loss: 0.6167 - accuracy: 0.6797\n",
      "Epoch 47/150\n",
      "77/77 [==============================] - 0s 2ms/step - loss: 0.6212 - accuracy: 0.6797\n",
      "Epoch 48/150\n",
      "77/77 [==============================] - 0s 5ms/step - loss: 0.6200 - accuracy: 0.6758\n",
      "Epoch 49/150\n",
      "77/77 [==============================] - 0s 5ms/step - loss: 0.6193 - accuracy: 0.6797\n",
      "Epoch 50/150\n",
      "77/77 [==============================] - 0s 3ms/step - loss: 0.6165 - accuracy: 0.6810\n",
      "Epoch 51/150\n",
      "77/77 [==============================] - 0s 4ms/step - loss: 0.6155 - accuracy: 0.6823\n",
      "Epoch 52/150\n",
      "77/77 [==============================] - 0s 4ms/step - loss: 0.6164 - accuracy: 0.6732\n",
      "Epoch 53/150\n",
      "77/77 [==============================] - 0s 5ms/step - loss: 0.6162 - accuracy: 0.6823\n",
      "Epoch 54/150\n",
      "77/77 [==============================] - 0s 5ms/step - loss: 0.6163 - accuracy: 0.6862\n",
      "Epoch 55/150\n",
      "77/77 [==============================] - 0s 4ms/step - loss: 0.6151 - accuracy: 0.6823\n",
      "Epoch 56/150\n",
      "77/77 [==============================] - 0s 6ms/step - loss: 0.6144 - accuracy: 0.6810\n",
      "Epoch 57/150\n",
      "77/77 [==============================] - 0s 5ms/step - loss: 0.6148 - accuracy: 0.6797\n",
      "Epoch 58/150\n",
      "77/77 [==============================] - 0s 5ms/step - loss: 0.6204 - accuracy: 0.6771\n",
      "Epoch 59/150\n",
      "77/77 [==============================] - 0s 5ms/step - loss: 0.6164 - accuracy: 0.6797\n",
      "Epoch 60/150\n",
      "77/77 [==============================] - 0s 5ms/step - loss: 0.6138 - accuracy: 0.6797\n",
      "Epoch 61/150\n",
      "77/77 [==============================] - 0s 4ms/step - loss: 0.6114 - accuracy: 0.6875\n",
      "Epoch 62/150\n",
      "77/77 [==============================] - 0s 5ms/step - loss: 0.6185 - accuracy: 0.6771\n",
      "Epoch 63/150\n",
      "77/77 [==============================] - 0s 5ms/step - loss: 0.6150 - accuracy: 0.6849\n",
      "Epoch 64/150\n",
      "77/77 [==============================] - 0s 5ms/step - loss: 0.6146 - accuracy: 0.6836\n",
      "Epoch 65/150\n",
      "77/77 [==============================] - 0s 4ms/step - loss: 0.6187 - accuracy: 0.6771\n",
      "Epoch 66/150\n",
      "77/77 [==============================] - 0s 3ms/step - loss: 0.6191 - accuracy: 0.6745\n",
      "Epoch 67/150\n",
      "77/77 [==============================] - 0s 3ms/step - loss: 0.6115 - accuracy: 0.6849\n",
      "Epoch 68/150\n",
      "77/77 [==============================] - 0s 5ms/step - loss: 0.6185 - accuracy: 0.6823\n",
      "Epoch 69/150\n",
      "77/77 [==============================] - 0s 5ms/step - loss: 0.6100 - accuracy: 0.6836\n",
      "Epoch 70/150\n",
      "77/77 [==============================] - 0s 4ms/step - loss: 0.6128 - accuracy: 0.6836\n",
      "Epoch 71/150\n",
      "77/77 [==============================] - 0s 5ms/step - loss: 0.6138 - accuracy: 0.6823\n",
      "Epoch 72/150\n",
      "77/77 [==============================] - 0s 5ms/step - loss: 0.6137 - accuracy: 0.6836\n",
      "Epoch 73/150\n",
      "77/77 [==============================] - 0s 5ms/step - loss: 0.6088 - accuracy: 0.6901\n",
      "Epoch 74/150\n",
      "77/77 [==============================] - 0s 3ms/step - loss: 0.6129 - accuracy: 0.6810\n",
      "Epoch 75/150\n",
      "77/77 [==============================] - 0s 5ms/step - loss: 0.6099 - accuracy: 0.6862\n",
      "Epoch 76/150\n",
      "77/77 [==============================] - 0s 3ms/step - loss: 0.6131 - accuracy: 0.6836\n",
      "Epoch 77/150\n",
      "77/77 [==============================] - 0s 4ms/step - loss: 0.6081 - accuracy: 0.6875\n",
      "Epoch 78/150\n",
      "77/77 [==============================] - 0s 6ms/step - loss: 0.6147 - accuracy: 0.6823\n",
      "Epoch 79/150\n",
      "77/77 [==============================] - 0s 6ms/step - loss: 0.6111 - accuracy: 0.6862\n",
      "Epoch 80/150\n",
      "77/77 [==============================] - 0s 4ms/step - loss: 0.6116 - accuracy: 0.6862\n",
      "Epoch 81/150\n",
      "77/77 [==============================] - 0s 4ms/step - loss: 0.6175 - accuracy: 0.6810\n",
      "Epoch 82/150\n",
      "77/77 [==============================] - 0s 5ms/step - loss: 0.6116 - accuracy: 0.6836\n",
      "Epoch 83/150\n"
     ]
    },
    {
     "name": "stdout",
     "output_type": "stream",
     "text": [
      "77/77 [==============================] - 0s 4ms/step - loss: 0.6096 - accuracy: 0.6810\n",
      "Epoch 84/150\n",
      "77/77 [==============================] - 0s 4ms/step - loss: 0.6094 - accuracy: 0.6862\n",
      "Epoch 85/150\n",
      "77/77 [==============================] - 0s 5ms/step - loss: 0.6109 - accuracy: 0.6836\n",
      "Epoch 86/150\n",
      "77/77 [==============================] - 0s 5ms/step - loss: 0.6057 - accuracy: 0.6875\n",
      "Epoch 87/150\n",
      "77/77 [==============================] - 0s 3ms/step - loss: 0.6122 - accuracy: 0.6849\n",
      "Epoch 88/150\n",
      "77/77 [==============================] - 0s 4ms/step - loss: 0.6112 - accuracy: 0.6836\n",
      "Epoch 89/150\n",
      "77/77 [==============================] - 0s 4ms/step - loss: 0.6125 - accuracy: 0.6849\n",
      "Epoch 90/150\n",
      "77/77 [==============================] - 0s 3ms/step - loss: 0.6064 - accuracy: 0.6888\n",
      "Epoch 91/150\n",
      "77/77 [==============================] - 0s 4ms/step - loss: 0.6070 - accuracy: 0.6888\n",
      "Epoch 92/150\n",
      "77/77 [==============================] - 0s 5ms/step - loss: 0.6098 - accuracy: 0.6875\n",
      "Epoch 93/150\n",
      "77/77 [==============================] - 0s 4ms/step - loss: 0.6084 - accuracy: 0.6836\n",
      "Epoch 94/150\n",
      "77/77 [==============================] - 0s 5ms/step - loss: 0.6150 - accuracy: 0.6888\n",
      "Epoch 95/150\n",
      "77/77 [==============================] - 0s 3ms/step - loss: 0.6061 - accuracy: 0.6940\n",
      "Epoch 96/150\n",
      "77/77 [==============================] - 0s 3ms/step - loss: 0.6052 - accuracy: 0.6875\n",
      "Epoch 97/150\n",
      "77/77 [==============================] - 0s 3ms/step - loss: 0.6054 - accuracy: 0.6888\n",
      "Epoch 98/150\n",
      "77/77 [==============================] - 0s 3ms/step - loss: 0.6015 - accuracy: 0.6953\n",
      "Epoch 99/150\n",
      "77/77 [==============================] - 0s 3ms/step - loss: 0.6092 - accuracy: 0.6901\n",
      "Epoch 100/150\n",
      "77/77 [==============================] - 0s 2ms/step - loss: 0.6016 - accuracy: 0.6927\n",
      "Epoch 101/150\n",
      "77/77 [==============================] - 0s 3ms/step - loss: 0.6140 - accuracy: 0.6823\n",
      "Epoch 102/150\n",
      "77/77 [==============================] - 0s 3ms/step - loss: 0.6023 - accuracy: 0.6927\n",
      "Epoch 103/150\n",
      "77/77 [==============================] - 0s 2ms/step - loss: 0.6042 - accuracy: 0.6914\n",
      "Epoch 104/150\n",
      "77/77 [==============================] - 0s 2ms/step - loss: 0.6048 - accuracy: 0.6836\n",
      "Epoch 105/150\n",
      "77/77 [==============================] - 0s 3ms/step - loss: 0.6047 - accuracy: 0.6849\n",
      "Epoch 106/150\n",
      "77/77 [==============================] - 0s 3ms/step - loss: 0.6108 - accuracy: 0.6823\n",
      "Epoch 107/150\n",
      "77/77 [==============================] - 0s 3ms/step - loss: 0.6060 - accuracy: 0.6901\n",
      "Epoch 108/150\n",
      "77/77 [==============================] - 0s 3ms/step - loss: 0.6040 - accuracy: 0.6901\n",
      "Epoch 109/150\n",
      "77/77 [==============================] - 0s 3ms/step - loss: 0.6051 - accuracy: 0.6875\n",
      "Epoch 110/150\n",
      "77/77 [==============================] - 0s 3ms/step - loss: 0.6029 - accuracy: 0.6875\n",
      "Epoch 111/150\n",
      "77/77 [==============================] - 0s 3ms/step - loss: 0.6037 - accuracy: 0.6940\n",
      "Epoch 112/150\n",
      "77/77 [==============================] - 0s 3ms/step - loss: 0.6078 - accuracy: 0.6862\n",
      "Epoch 113/150\n",
      "77/77 [==============================] - 0s 3ms/step - loss: 0.6092 - accuracy: 0.6823\n",
      "Epoch 114/150\n",
      "77/77 [==============================] - 0s 3ms/step - loss: 0.6054 - accuracy: 0.6849\n",
      "Epoch 115/150\n",
      "77/77 [==============================] - 0s 3ms/step - loss: 0.6044 - accuracy: 0.6940\n",
      "Epoch 116/150\n",
      "77/77 [==============================] - 0s 3ms/step - loss: 0.6064 - accuracy: 0.6901\n",
      "Epoch 117/150\n",
      "77/77 [==============================] - 0s 3ms/step - loss: 0.6041 - accuracy: 0.6875\n",
      "Epoch 118/150\n",
      "77/77 [==============================] - 0s 3ms/step - loss: 0.6013 - accuracy: 0.6914\n",
      "Epoch 119/150\n",
      "77/77 [==============================] - 0s 3ms/step - loss: 0.6059 - accuracy: 0.6888\n",
      "Epoch 120/150\n",
      "77/77 [==============================] - 0s 3ms/step - loss: 0.6049 - accuracy: 0.6914\n",
      "Epoch 121/150\n",
      "77/77 [==============================] - 0s 3ms/step - loss: 0.6097 - accuracy: 0.6823\n",
      "Epoch 122/150\n",
      "77/77 [==============================] - 0s 3ms/step - loss: 0.5998 - accuracy: 0.6914\n",
      "Epoch 123/150\n",
      "77/77 [==============================] - 0s 3ms/step - loss: 0.6002 - accuracy: 0.6901\n",
      "Epoch 124/150\n",
      "77/77 [==============================] - 0s 3ms/step - loss: 0.6054 - accuracy: 0.6901\n",
      "Epoch 125/150\n",
      "77/77 [==============================] - 0s 3ms/step - loss: 0.6012 - accuracy: 0.6901\n",
      "Epoch 126/150\n",
      "77/77 [==============================] - 0s 3ms/step - loss: 0.6024 - accuracy: 0.6914\n",
      "Epoch 127/150\n",
      "77/77 [==============================] - 0s 3ms/step - loss: 0.6044 - accuracy: 0.6888\n",
      "Epoch 128/150\n",
      "77/77 [==============================] - 0s 3ms/step - loss: 0.6030 - accuracy: 0.6914\n",
      "Epoch 129/150\n",
      "77/77 [==============================] - 0s 3ms/step - loss: 0.6022 - accuracy: 0.6888\n",
      "Epoch 130/150\n",
      "77/77 [==============================] - 0s 3ms/step - loss: 0.6043 - accuracy: 0.6914\n",
      "Epoch 131/150\n",
      "77/77 [==============================] - 0s 3ms/step - loss: 0.6096 - accuracy: 0.6966\n",
      "Epoch 132/150\n",
      "77/77 [==============================] - 0s 4ms/step - loss: 0.6010 - accuracy: 0.6862\n",
      "Epoch 133/150\n",
      "77/77 [==============================] - 0s 6ms/step - loss: 0.6109 - accuracy: 0.6914\n",
      "Epoch 134/150\n",
      "77/77 [==============================] - 0s 5ms/step - loss: 0.6069 - accuracy: 0.6862\n",
      "Epoch 135/150\n",
      "77/77 [==============================] - 0s 6ms/step - loss: 0.6050 - accuracy: 0.6836\n",
      "Epoch 136/150\n",
      "77/77 [==============================] - 0s 6ms/step - loss: 0.6005 - accuracy: 0.6901\n",
      "Epoch 137/150\n",
      "77/77 [==============================] - 0s 6ms/step - loss: 0.6047 - accuracy: 0.6927\n",
      "Epoch 138/150\n",
      "77/77 [==============================] - 0s 4ms/step - loss: 0.6053 - accuracy: 0.6823\n",
      "Epoch 139/150\n",
      "77/77 [==============================] - 0s 5ms/step - loss: 0.6028 - accuracy: 0.6914\n",
      "Epoch 140/150\n",
      "77/77 [==============================] - 0s 6ms/step - loss: 0.6012 - accuracy: 0.6901\n",
      "Epoch 141/150\n",
      "77/77 [==============================] - 0s 6ms/step - loss: 0.6024 - accuracy: 0.6914\n",
      "Epoch 142/150\n",
      "77/77 [==============================] - 0s 5ms/step - loss: 0.5993 - accuracy: 0.6927\n",
      "Epoch 143/150\n",
      "77/77 [==============================] - 1s 7ms/step - loss: 0.6031 - accuracy: 0.6927\n",
      "Epoch 144/150\n",
      "77/77 [==============================] - 0s 6ms/step - loss: 0.6016 - accuracy: 0.6862\n",
      "Epoch 145/150\n",
      "77/77 [==============================] - 0s 6ms/step - loss: 0.6074 - accuracy: 0.6836\n",
      "Epoch 146/150\n",
      "77/77 [==============================] - 1s 7ms/step - loss: 0.6103 - accuracy: 0.6836\n",
      "Epoch 147/150\n",
      "77/77 [==============================] - 0s 6ms/step - loss: 0.6009 - accuracy: 0.6901\n",
      "Epoch 148/150\n",
      "77/77 [==============================] - 1s 8ms/step - loss: 0.6010 - accuracy: 0.6927\n",
      "Epoch 149/150\n",
      "77/77 [==============================] - 0s 6ms/step - loss: 0.6000 - accuracy: 0.6927\n",
      "Epoch 150/150\n",
      "77/77 [==============================] - 0s 5ms/step - loss: 0.6038 - accuracy: 0.6849\n"
     ]
    },
    {
     "data": {
      "text/plain": [
       "<keras.callbacks.History at 0x215115ae2f0>"
      ]
     },
     "execution_count": 10,
     "metadata": {},
     "output_type": "execute_result"
    }
   ],
   "source": [
    "model.fit(x, y, epochs = 150, batch_size = 10)"
   ]
  },
  {
   "cell_type": "code",
   "execution_count": 11,
   "id": "45f7b279",
   "metadata": {},
   "outputs": [
    {
     "name": "stdout",
     "output_type": "stream",
     "text": [
      "24/24 [==============================] - 1s 2ms/step - loss: 0.5983 - accuracy: 0.6940\n"
     ]
    },
    {
     "data": {
      "text/plain": [
       "[0.598292887210846, 0.6940104365348816]"
      ]
     },
     "execution_count": 11,
     "metadata": {},
     "output_type": "execute_result"
    }
   ],
   "source": [
    "model.evaluate(x, y)"
   ]
  },
  {
   "cell_type": "code",
   "execution_count": null,
   "id": "35624213",
   "metadata": {},
   "outputs": [],
   "source": []
  },
  {
   "cell_type": "code",
   "execution_count": 12,
   "id": "562835f1",
   "metadata": {},
   "outputs": [
    {
     "name": "stdout",
     "output_type": "stream",
     "text": [
      "24/24 [==============================] - 0s 2ms/step\n",
      "[0, 0, 1, 0, 0, 0, 0, 0, 0, 0, 0, 1, 0, 0, 0, 0, 0, 0, 0, 0, 0, 0, 0, 0, 0, 0, 0, 0, 0, 0, 0, 0, 0, 0, 0, 0, 0, 0, 0, 0, 0, 0, 0, 0, 0, 1, 0, 0, 0, 0, 0, 0, 0, 0, 0, 0, 0, 0, 0, 0, 0, 0, 0, 0, 0, 0, 0, 0, 0, 0, 0, 0, 0, 0, 0, 0, 0, 0, 1, 0, 0, 0, 0, 0, 0, 0, 0, 0, 0, 0, 0, 0, 0, 0, 0, 0, 0, 0, 0, 0, 1, 0, 0, 0, 0, 0, 0, 0, 0, 0, 0, 0, 0, 0, 0, 0, 0, 0, 0, 0, 0, 0, 0, 0, 0, 1, 0, 0, 0, 0, 0, 0, 0, 0, 0, 0, 0, 0, 0, 0, 0, 0, 0, 0, 0, 0, 0, 0, 0, 0, 0, 0, 0, 0, 0, 0, 0, 0, 0, 0, 0, 0, 0, 0, 0, 0, 0, 0, 0, 0, 0, 0, 0, 0, 0, 0, 0, 0, 0, 0, 0, 0, 0, 0, 0, 0, 0, 0, 0, 0, 0, 0, 0, 1, 0, 0, 0, 0, 0, 0, 0, 0, 0, 0, 0, 0, 0, 0, 0, 0, 0, 0, 0, 0, 0, 0, 0, 0, 0, 0, 0, 0, 0, 0, 0, 0, 0, 1, 0, 0, 1, 0, 0, 0, 0, 1, 0, 1, 0, 0, 0, 0, 1, 0, 0, 0, 0, 0, 0, 0, 0, 0, 0, 0, 0, 0, 0, 0, 0, 0, 0, 1, 0, 0, 0, 0, 1, 0, 0, 1, 0, 0, 0, 0, 0, 0, 0, 0, 0, 0, 0, 0, 0, 0, 0, 0, 0, 0, 0, 0, 0, 0, 0, 0, 0, 0, 0, 0, 0, 0, 1, 0, 0, 0, 0, 0, 0, 0, 0, 0, 0, 0, 0, 0, 0, 0, 0, 1, 0, 0, 0, 0, 0, 0, 0, 0, 0, 1, 0, 0, 0, 0, 1, 0, 0, 0, 0, 0, 0, 0, 0, 0, 0, 0, 0, 0, 0, 1, 0, 1, 0, 0, 0, 0, 0, 0, 0, 0, 0, 0, 0, 0, 0, 0, 0, 0, 0, 0, 0, 0, 0, 0, 0, 0, 0, 0, 0, 0, 1, 0, 0, 0, 0, 0, 0, 0, 0, 0, 0, 0, 0, 1, 0, 0, 0, 0, 0, 0, 0, 1, 0, 0, 0, 0, 0, 0, 0, 0, 1, 0, 0, 0, 0, 0, 0, 0, 0, 0, 0, 0, 0, 0, 0, 0, 0, 0, 0, 0, 0, 0, 0, 0, 0, 0, 0, 1, 0, 0, 0, 0, 0, 0, 0, 0, 0, 1, 0, 0, 0, 0, 0, 0, 0, 0, 0, 0, 0, 0, 0, 0, 0, 0, 0, 0, 0, 0, 0, 0, 0, 0, 0, 0, 0, 0, 0, 0, 0, 0, 0, 0, 0, 0, 0, 0, 1, 0, 0, 0, 0, 0, 0, 0, 0, 0, 0, 0, 0, 0, 0, 0, 0, 0, 1, 0, 0, 0, 0, 0, 0, 0, 0, 0, 0, 0, 0, 0, 0, 0, 0, 0, 0, 0, 0, 0, 0, 0, 0, 0, 0, 0, 0, 0, 0, 0, 0, 1, 0, 0, 0, 0, 0, 0, 0, 0, 0, 0, 0, 0, 0, 0, 0, 0, 0, 0, 0, 0, 0, 0, 0, 0, 0, 0, 0, 0, 0, 0, 0, 0, 0, 0, 0, 0, 0, 0, 0, 0, 0, 1, 0, 0, 0, 0, 0, 0, 0, 0, 0, 0, 0, 0, 0, 0, 0, 0, 0, 0, 0, 0, 0, 0, 0, 0, 0, 0, 1, 0, 0, 0, 0, 0, 0, 0, 0, 0, 0, 0, 0, 0, 0, 1, 0, 0, 0, 0, 0, 0, 0, 0, 0, 0, 0, 0, 0, 0, 0, 0, 0, 0, 0, 0, 0, 0, 0, 0, 0, 0, 0, 0, 0, 0, 0, 0, 0, 0, 0, 0, 0, 0, 0, 0, 0, 1, 0, 0, 0, 0, 0, 0, 0, 0, 0, 0, 0, 0, 0, 1, 0, 0, 0, 0, 0, 1, 0, 0, 0, 0, 0, 0, 0, 0, 0, 0, 0, 0, 0, 0, 0, 1, 0, 0, 0, 0, 0, 0, 0, 0, 0, 0, 0, 0, 0, 0, 0, 0, 0, 0, 0, 0, 0, 0, 0, 0, 0, 0, 0, 0, 0, 0, 0, 0, 0, 1, 0, 0, 0, 0, 0, 0, 0, 0, 0, 0, 0, 0, 0, 0, 0, 0, 0, 0, 1, 0, 0, 0, 0, 0, 0, 0, 0, 0, 0, 0, 0, 0, 0, 0, 0, 0]\n"
     ]
    }
   ],
   "source": [
    "predictions = model.predict(x)\n",
    "print([round(x[0]) for x in predictions])"
   ]
  },
  {
   "cell_type": "code",
   "execution_count": null,
   "id": "c428454c",
   "metadata": {},
   "outputs": [],
   "source": []
  },
  {
   "cell_type": "code",
   "execution_count": 24,
   "id": "a7b82b4f",
   "metadata": {},
   "outputs": [
    {
     "name": "stdout",
     "output_type": "stream",
     "text": [
      "Note: you may need to restart the kernel to use updated packages.Collecting pymc3\n",
      "  Downloading pymc3-3.11.5-py3-none-any.whl (872 kB)\n",
      "     ------------------------------------ 872.2/872.2 KB 488.1 kB/s eta 0:00:00\n",
      "Collecting fastprogress>=0.2.0\n",
      "  Downloading fastprogress-1.0.3-py3-none-any.whl (12 kB)\n",
      "Collecting semver>=2.13.0\n",
      "  Downloading semver-2.13.0-py2.py3-none-any.whl (12 kB)\n",
      "Collecting arviz>=0.11.0\n",
      "  Downloading arviz-0.13.0-py3-none-any.whl (1.7 MB)\n",
      "     ---------------------------------------- 1.7/1.7 MB 441.8 kB/s eta 0:00:00\n",
      "Requirement already satisfied: cachetools>=4.2.1 in c:\\users\\mahi's pc\\appdata\\local\\programs\\python\\python310\\lib\\site-packages (from pymc3) (5.2.0)\n",
      "Collecting numpy<1.22.2,>=1.15.0\n",
      "  Downloading numpy-1.22.1-cp310-cp310-win_amd64.whl (14.7 MB)\n",
      "     -------------------------------------- 14.7/14.7 MB 454.2 kB/s eta 0:00:00\n",
      "Collecting deprecat\n",
      "  Downloading deprecat-2.1.1-py2.py3-none-any.whl (9.8 kB)\n",
      "Collecting patsy>=0.5.1\n",
      "  Downloading patsy-0.5.3-py2.py3-none-any.whl (233 kB)\n",
      "     ------------------------------------ 233.8/233.8 KB 447.2 kB/s eta 0:00:00\n",
      "Collecting scipy<1.8.0,>=1.7.3\n",
      "  Downloading scipy-1.7.3-cp310-cp310-win_amd64.whl (34.3 MB)\n",
      "     -------------------------------------- 34.3/34.3 MB 528.7 kB/s eta 0:00:00\n",
      "Requirement already satisfied: typing-extensions>=3.7.4 in c:\\users\\mahi's pc\\appdata\\local\\programs\\python\\python310\\lib\\site-packages (from pymc3) (4.4.0)\n",
      "Requirement already satisfied: dill in c:\\users\\mahi's pc\\appdata\\local\\programs\\python\\python310\\lib\\site-packages (from pymc3) (0.3.6)\n",
      "Requirement already satisfied: pandas>=0.24.0 in c:\\users\\mahi's pc\\appdata\\local\\programs\\python\\python310\\lib\\site-packages (from pymc3) (1.5.1)\n",
      "Collecting theano-pymc==1.1.2\n",
      "  Downloading Theano-PyMC-1.1.2.tar.gz (1.8 MB)\n",
      "     ---------------------------------------- 1.8/1.8 MB 535.9 kB/s eta 0:00:00\n",
      "  Preparing metadata (setup.py): started\n",
      "  Preparing metadata (setup.py): finished with status 'done'\n",
      "Collecting filelock\n",
      "  Downloading filelock-3.8.0-py3-none-any.whl (10 kB)\n",
      "Collecting arviz>=0.11.0\n",
      "  Downloading arviz-0.12.1-py3-none-any.whl (1.6 MB)\n",
      "     ---------------------------------------- 1.6/1.6 MB 457.5 kB/s eta 0:00:00\n",
      "Collecting xarray>=0.16.1\n",
      "  Downloading xarray-2022.11.0-py3-none-any.whl (963 kB)\n",
      "     ------------------------------------ 963.7/963.7 KB 564.9 kB/s eta 0:00:00\n",
      "Requirement already satisfied: setuptools>=38.4 in c:\\users\\mahi's pc\\appdata\\local\\programs\\python\\python310\\lib\\site-packages (from arviz>=0.11.0->pymc3) (58.1.0)\n",
      "Collecting netcdf4\n",
      "  Downloading netCDF4-1.6.1-cp310-cp310-win_amd64.whl (5.2 MB)\n",
      "     ---------------------------------------- 5.2/5.2 MB 525.7 kB/s eta 0:00:00\n",
      "Collecting xarray-einstats>=0.2\n",
      "  Downloading xarray_einstats-0.3.0-py3-none-any.whl (34 kB)\n",
      "Requirement already satisfied: matplotlib>=3.0 in c:\\users\\mahi's pc\\appdata\\local\\programs\\python\\python310\\lib\\site-packages (from arviz>=0.11.0->pymc3) (3.6.2)\n",
      "Requirement already satisfied: packaging in c:\\users\\mahi's pc\\appdata\\local\\programs\\python\\python310\\lib\\site-packages (from arviz>=0.11.0->pymc3) (21.3)\n",
      "Requirement already satisfied: python-dateutil>=2.8.1 in c:\\users\\mahi's pc\\appdata\\local\\programs\\python\\python310\\lib\\site-packages (from pandas>=0.24.0->pymc3) (2.8.2)\n",
      "Requirement already satisfied: pytz>=2020.1 in c:\\users\\mahi's pc\\appdata\\local\\programs\\python\\python310\\lib\\site-packages (from pandas>=0.24.0->pymc3) (2022.2.1)\n",
      "Requirement already satisfied: six in c:\\users\\mahi's pc\\appdata\\local\\programs\\python\\python310\\lib\\site-packages (from patsy>=0.5.1->pymc3) (1.16.0)\n",
      "Requirement already satisfied: wrapt<2,>=1.10 in c:\\users\\mahi's pc\\appdata\\local\\programs\\python\\python310\\lib\\site-packages (from deprecat->pymc3) (1.14.1)\n",
      "Requirement already satisfied: kiwisolver>=1.0.1 in c:\\users\\mahi's pc\\appdata\\local\\programs\\python\\python310\\lib\\site-packages (from matplotlib>=3.0->arviz>=0.11.0->pymc3) (1.4.4)\n",
      "Requirement already satisfied: fonttools>=4.22.0 in c:\\users\\mahi's pc\\appdata\\local\\programs\\python\\python310\\lib\\site-packages (from matplotlib>=3.0->arviz>=0.11.0->pymc3) (4.37.4)\n",
      "Requirement already satisfied: pyparsing>=2.2.1 in c:\\users\\mahi's pc\\appdata\\local\\programs\\python\\python310\\lib\\site-packages (from matplotlib>=3.0->arviz>=0.11.0->pymc3) (3.0.9)\n",
      "Requirement already satisfied: cycler>=0.10 in c:\\users\\mahi's pc\\appdata\\local\\programs\\python\\python310\\lib\\site-packages (from matplotlib>=3.0->arviz>=0.11.0->pymc3) (0.11.0)\n",
      "Requirement already satisfied: pillow>=6.2.0 in c:\\users\\mahi's pc\\appdata\\local\\programs\\python\\python310\\lib\\site-packages (from matplotlib>=3.0->arviz>=0.11.0->pymc3) (9.2.0)\n",
      "Requirement already satisfied: contourpy>=1.0.1 in c:\\users\\mahi's pc\\appdata\\local\\programs\\python\\python310\\lib\\site-packages (from matplotlib>=3.0->arviz>=0.11.0->pymc3) (1.0.5)\n",
      "Collecting cftime\n",
      "  Downloading cftime-1.6.2-cp310-cp310-win_amd64.whl (162 kB)\n",
      "     ------------------------------------ 162.7/162.7 KB 699.5 kB/s eta 0:00:00\n",
      "Building wheels for collected packages: theano-pymc\n",
      "  Building wheel for theano-pymc (setup.py): started\n",
      "  Building wheel for theano-pymc (setup.py): finished with status 'done'\n",
      "  Created wheel for theano-pymc: filename=Theano_PyMC-1.1.2-py3-none-any.whl size=1529975 sha256=54bdf9b8375bf65d6a6f6087d5b51a042ea9915ebc21ccbff3d2e4538dc38a00\n",
      "  Stored in directory: c:\\users\\mahi's pc\\appdata\\local\\pip\\cache\\wheels\\c2\\da\\87\\4e3e2d14772741721d4ebe739c16bcf10ca3c6348f740aa852\n",
      "Successfully built theano-pymc\n",
      "Installing collected packages: semver, numpy, filelock, fastprogress, deprecat, scipy, patsy, cftime, xarray, theano-pymc, netcdf4, xarray-einstats, arviz, pymc3\n",
      "  Attempting uninstall: numpy\n",
      "    Found existing installation: numpy 1.23.4\n",
      "    Uninstalling numpy-1.23.4:\n",
      "      Successfully uninstalled numpy-1.23.4\n",
      "\n"
     ]
    },
    {
     "name": "stderr",
     "output_type": "stream",
     "text": [
      "WARNING: Ignoring invalid distribution -atplotlib (c:\\users\\mahi's pc\\appdata\\local\\programs\\python\\python310\\lib\\site-packages)\n",
      "WARNING: Ignoring invalid distribution -atplotlib (c:\\users\\mahi's pc\\appdata\\local\\programs\\python\\python310\\lib\\site-packages)\n",
      "WARNING: Ignoring invalid distribution -atplotlib (c:\\users\\mahi's pc\\appdata\\local\\programs\\python\\python310\\lib\\site-packages)\n",
      "    WARNING: Ignoring invalid distribution -atplotlib (c:\\users\\mahi's pc\\appdata\\local\\programs\\python\\python310\\lib\\site-packages)\n",
      "ERROR: Could not install packages due to an OSError: [WinError 5] Access is denied: \"C:\\\\Users\\\\Mahi's Pc\\\\AppData\\\\Local\\\\Programs\\\\Python\\\\Python310\\\\Lib\\\\site-packages\\\\~umpy\\\\.libs\\\\libopenblas.FB5AE2TYXYH2IJRDKGDGQ3XBKLKTF43H.gfortran-win_amd64.dll\"\n",
      "Consider using the `--user` option or check the permissions.\n",
      "\n",
      "WARNING: Ignoring invalid distribution -atplotlib (c:\\users\\mahi's pc\\appdata\\local\\programs\\python\\python310\\lib\\site-packages)\n",
      "WARNING: Ignoring invalid distribution -atplotlib (c:\\users\\mahi's pc\\appdata\\local\\programs\\python\\python310\\lib\\site-packages)\n",
      "WARNING: Ignoring invalid distribution -atplotlib (c:\\users\\mahi's pc\\appdata\\local\\programs\\python\\python310\\lib\\site-packages)\n",
      "WARNING: You are using pip version 22.0.4; however, version 22.3.1 is available.\n",
      "You should consider upgrading via the 'C:\\Users\\Mahi's Pc\\AppData\\Local\\Programs\\Python\\Python310\\python.exe -m pip install --upgrade pip' command.\n"
     ]
    }
   ],
   "source": [
    "pip install pymc3"
   ]
  },
  {
   "cell_type": "code",
   "execution_count": 13,
   "id": "1a4a5888",
   "metadata": {},
   "outputs": [
    {
     "name": "stdout",
     "output_type": "stream",
     "text": [
      "Requirement already satisfied: theano in c:\\users\\mahi's pc\\appdata\\local\\programs\\python\\python310\\lib\\site-packages (1.0.5)"
     ]
    },
    {
     "name": "stderr",
     "output_type": "stream",
     "text": [
      "WARNING: Ignoring invalid distribution -atplotlib (c:\\users\\mahi's pc\\appdata\\local\\programs\\python\\python310\\lib\\site-packages)\n",
      "WARNING: Ignoring invalid distribution -atplotlib (c:\\users\\mahi's pc\\appdata\\local\\programs\\python\\python310\\lib\\site-packages)\n",
      "WARNING: Ignoring invalid distribution -atplotlib (c:\\users\\mahi's pc\\appdata\\local\\programs\\python\\python310\\lib\\site-packages)\n",
      "WARNING: Ignoring invalid distribution -atplotlib (c:\\users\\mahi's pc\\appdata\\local\\programs\\python\\python310\\lib\\site-packages)\n",
      "WARNING: Ignoring invalid distribution -atplotlib (c:\\users\\mahi's pc\\appdata\\local\\programs\\python\\python310\\lib\\site-packages)\n",
      "WARNING: Ignoring invalid distribution -atplotlib (c:\\users\\mahi's pc\\appdata\\local\\programs\\python\\python310\\lib\\site-packages)\n",
      "WARNING: You are using pip version 22.0.4; however, version 22.3.1 is available.\n",
      "You should consider upgrading via the 'C:\\Users\\Mahi's Pc\\AppData\\Local\\Programs\\Python\\Python310\\python.exe -m pip install --upgrade pip' command.\n"
     ]
    },
    {
     "name": "stdout",
     "output_type": "stream",
     "text": [
      "\n",
      "Requirement already satisfied: six>=1.9.0 in c:\\users\\mahi's pc\\appdata\\local\\programs\\python\\python310\\lib\\site-packages (from theano) (1.16.0)\n",
      "Requirement already satisfied: scipy>=0.14 in c:\\users\\mahi's pc\\appdata\\local\\programs\\python\\python310\\lib\\site-packages (from theano) (1.9.3)\n",
      "Requirement already satisfied: numpy>=1.9.1 in c:\\users\\mahi's pc\\appdata\\local\\programs\\python\\python310\\lib\\site-packages (from theano) (1.22.1)\n"
     ]
    }
   ],
   "source": [
    "!pip install --user theano"
   ]
  },
  {
   "cell_type": "code",
   "execution_count": 14,
   "id": "6d19c284",
   "metadata": {},
   "outputs": [],
   "source": [
    "import numpy as np\n",
    "\n",
    "try:\n",
    "    np.distutils.__config__.blas_opt_info = np.distutils.__config__.blas_ilp64_opt_info\n",
    "except Exception:\n",
    "    pass"
   ]
  },
  {
   "cell_type": "code",
   "execution_count": 15,
   "id": "0882122c",
   "metadata": {},
   "outputs": [
    {
     "name": "stderr",
     "output_type": "stream",
     "text": [
      "WARNING (theano.configdefaults): g++ not available, if using conda: `conda install m2w64-toolchain`\n",
      "C:\\Users\\Mahi's Pc\\AppData\\Local\\Programs\\Python\\Python310\\lib\\site-packages\\theano\\configdefaults.py:560: UserWarning: DeprecationWarning: there is no c++ compiler.This is deprecated and with Theano 0.11 a c++ compiler will be mandatory\n",
      "  warnings.warn(\"DeprecationWarning: there is no c++ compiler.\"\n",
      "WARNING (theano.configdefaults): g++ not detected ! Theano will be unable to execute optimized C-implementations (for both CPU and GPU) and will default to Python implementations. Performance will be severely degraded. To remove this warning, set Theano flags cxx to an empty string.\n"
     ]
    },
    {
     "ename": "AttributeError",
     "evalue": "module 'numpy.distutils.__config__' has no attribute 'blas_opt_info'",
     "output_type": "error",
     "traceback": [
      "\u001b[1;31m---------------------------------------------------------------------------\u001b[0m",
      "\u001b[1;31mNoSectionError\u001b[0m                            Traceback (most recent call last)",
      "File \u001b[1;32m~\\AppData\\Local\\Programs\\Python\\Python310\\lib\\site-packages\\theano\\configparser.py:168\u001b[0m, in \u001b[0;36mfetch_val_for_key\u001b[1;34m(key, delete_key)\u001b[0m\n\u001b[0;32m    167\u001b[0m \u001b[38;5;28;01mtry\u001b[39;00m:\n\u001b[1;32m--> 168\u001b[0m     \u001b[38;5;28;01mreturn\u001b[39;00m \u001b[43mtheano_cfg\u001b[49m\u001b[38;5;241;43m.\u001b[39;49m\u001b[43mget\u001b[49m\u001b[43m(\u001b[49m\u001b[43msection\u001b[49m\u001b[43m,\u001b[49m\u001b[43m \u001b[49m\u001b[43moption\u001b[49m\u001b[43m)\u001b[49m\n\u001b[0;32m    169\u001b[0m \u001b[38;5;28;01mexcept\u001b[39;00m ConfigParser\u001b[38;5;241m.\u001b[39mInterpolationError:\n",
      "File \u001b[1;32m~\\AppData\\Local\\Programs\\Python\\Python310\\lib\\configparser.py:782\u001b[0m, in \u001b[0;36mRawConfigParser.get\u001b[1;34m(self, section, option, raw, vars, fallback)\u001b[0m\n\u001b[0;32m    781\u001b[0m \u001b[38;5;28;01mtry\u001b[39;00m:\n\u001b[1;32m--> 782\u001b[0m     d \u001b[38;5;241m=\u001b[39m \u001b[38;5;28;43mself\u001b[39;49m\u001b[38;5;241;43m.\u001b[39;49m\u001b[43m_unify_values\u001b[49m\u001b[43m(\u001b[49m\u001b[43msection\u001b[49m\u001b[43m,\u001b[49m\u001b[43m \u001b[49m\u001b[38;5;28;43mvars\u001b[39;49m\u001b[43m)\u001b[49m\n\u001b[0;32m    783\u001b[0m \u001b[38;5;28;01mexcept\u001b[39;00m NoSectionError:\n",
      "File \u001b[1;32m~\\AppData\\Local\\Programs\\Python\\Python310\\lib\\configparser.py:1153\u001b[0m, in \u001b[0;36mRawConfigParser._unify_values\u001b[1;34m(self, section, vars)\u001b[0m\n\u001b[0;32m   1152\u001b[0m     \u001b[38;5;28;01mif\u001b[39;00m section \u001b[38;5;241m!=\u001b[39m \u001b[38;5;28mself\u001b[39m\u001b[38;5;241m.\u001b[39mdefault_section:\n\u001b[1;32m-> 1153\u001b[0m         \u001b[38;5;28;01mraise\u001b[39;00m NoSectionError(section) \u001b[38;5;28;01mfrom\u001b[39;00m \u001b[38;5;28mNone\u001b[39m\n\u001b[0;32m   1154\u001b[0m \u001b[38;5;66;03m# Update with the entry specific variables\u001b[39;00m\n",
      "\u001b[1;31mNoSectionError\u001b[0m: No section: 'blas'",
      "\nDuring handling of the above exception, another exception occurred:\n",
      "\u001b[1;31mKeyError\u001b[0m                                  Traceback (most recent call last)",
      "File \u001b[1;32m~\\AppData\\Local\\Programs\\Python\\Python310\\lib\\site-packages\\theano\\configparser.py:327\u001b[0m, in \u001b[0;36mConfigParam.__get__\u001b[1;34m(self, cls, type_, delete_key)\u001b[0m\n\u001b[0;32m    326\u001b[0m \u001b[38;5;28;01mtry\u001b[39;00m:\n\u001b[1;32m--> 327\u001b[0m     val_str \u001b[38;5;241m=\u001b[39m \u001b[43mfetch_val_for_key\u001b[49m\u001b[43m(\u001b[49m\u001b[38;5;28;43mself\u001b[39;49m\u001b[38;5;241;43m.\u001b[39;49m\u001b[43mfullname\u001b[49m\u001b[43m,\u001b[49m\n\u001b[0;32m    328\u001b[0m \u001b[43m                                \u001b[49m\u001b[43mdelete_key\u001b[49m\u001b[38;5;241;43m=\u001b[39;49m\u001b[43mdelete_key\u001b[49m\u001b[43m)\u001b[49m\n\u001b[0;32m    329\u001b[0m     \u001b[38;5;28mself\u001b[39m\u001b[38;5;241m.\u001b[39mis_default \u001b[38;5;241m=\u001b[39m \u001b[38;5;28;01mFalse\u001b[39;00m\n",
      "File \u001b[1;32m~\\AppData\\Local\\Programs\\Python\\Python310\\lib\\site-packages\\theano\\configparser.py:172\u001b[0m, in \u001b[0;36mfetch_val_for_key\u001b[1;34m(key, delete_key)\u001b[0m\n\u001b[0;32m    171\u001b[0m \u001b[38;5;28;01mexcept\u001b[39;00m (ConfigParser\u001b[38;5;241m.\u001b[39mNoOptionError, ConfigParser\u001b[38;5;241m.\u001b[39mNoSectionError):\n\u001b[1;32m--> 172\u001b[0m     \u001b[38;5;28;01mraise\u001b[39;00m \u001b[38;5;167;01mKeyError\u001b[39;00m(key)\n",
      "\u001b[1;31mKeyError\u001b[0m: 'blas.ldflags'",
      "\nDuring handling of the above exception, another exception occurred:\n",
      "\u001b[1;31mAttributeError\u001b[0m                            Traceback (most recent call last)",
      "Cell \u001b[1;32mIn [15], line 1\u001b[0m\n\u001b[1;32m----> 1\u001b[0m \u001b[38;5;28;01mimport\u001b[39;00m \u001b[38;5;21;01mtheano\u001b[39;00m\n\u001b[0;32m      2\u001b[0m \u001b[38;5;28;01mfrom\u001b[39;00m \u001b[38;5;21;01mtheano\u001b[39;00m \u001b[38;5;28;01mimport\u001b[39;00m \u001b[38;5;241m*\u001b[39m\n\u001b[0;32m      3\u001b[0m \u001b[38;5;28;01mimport\u001b[39;00m \u001b[38;5;21;01mtheano\u001b[39;00m\u001b[38;5;21;01m.\u001b[39;00m\u001b[38;5;21;01mtensor\u001b[39;00m \u001b[38;5;28;01mas\u001b[39;00m \u001b[38;5;21;01mT\u001b[39;00m\n",
      "File \u001b[1;32m~\\AppData\\Local\\Programs\\Python\\Python310\\lib\\site-packages\\theano\\__init__.py:124\u001b[0m\n\u001b[0;32m    120\u001b[0m \u001b[38;5;28;01mfrom\u001b[39;00m \u001b[38;5;21;01mtheano\u001b[39;00m\u001b[38;5;21;01m.\u001b[39;00m\u001b[38;5;21;01mmisc\u001b[39;00m\u001b[38;5;21;01m.\u001b[39;00m\u001b[38;5;21;01msafe_asarray\u001b[39;00m \u001b[38;5;28;01mimport\u001b[39;00m _asarray\n\u001b[0;32m    122\u001b[0m \u001b[38;5;28;01mfrom\u001b[39;00m \u001b[38;5;21;01mtheano\u001b[39;00m\u001b[38;5;21;01m.\u001b[39;00m\u001b[38;5;21;01mprinting\u001b[39;00m \u001b[38;5;28;01mimport\u001b[39;00m pprint, pp\n\u001b[1;32m--> 124\u001b[0m \u001b[38;5;28;01mfrom\u001b[39;00m \u001b[38;5;21;01mtheano\u001b[39;00m\u001b[38;5;21;01m.\u001b[39;00m\u001b[38;5;21;01mscan_module\u001b[39;00m \u001b[38;5;28;01mimport\u001b[39;00m (scan, \u001b[38;5;28mmap\u001b[39m, reduce, foldl, foldr, clone,\n\u001b[0;32m    125\u001b[0m                                 scan_checkpoints)\n\u001b[0;32m    127\u001b[0m \u001b[38;5;28;01mfrom\u001b[39;00m \u001b[38;5;21;01mtheano\u001b[39;00m\u001b[38;5;21;01m.\u001b[39;00m\u001b[38;5;21;01mupdates\u001b[39;00m \u001b[38;5;28;01mimport\u001b[39;00m OrderedUpdates\n\u001b[0;32m    129\u001b[0m \u001b[38;5;66;03m# scan_module import above initializes tensor and scalar making these imports\u001b[39;00m\n\u001b[0;32m    130\u001b[0m \u001b[38;5;66;03m# redundant\u001b[39;00m\n\u001b[0;32m    131\u001b[0m \n\u001b[1;32m   (...)\u001b[0m\n\u001b[0;32m    136\u001b[0m \n\u001b[0;32m    137\u001b[0m \u001b[38;5;66;03m# import sparse\u001b[39;00m\n",
      "File \u001b[1;32m~\\AppData\\Local\\Programs\\Python\\Python310\\lib\\site-packages\\theano\\scan_module\\__init__.py:41\u001b[0m\n\u001b[0;32m     38\u001b[0m __copyright__ \u001b[38;5;241m=\u001b[39m \u001b[38;5;124m\"\u001b[39m\u001b[38;5;124m(c) 2010, Universite de Montreal\u001b[39m\u001b[38;5;124m\"\u001b[39m\n\u001b[0;32m     39\u001b[0m __contact__ \u001b[38;5;241m=\u001b[39m \u001b[38;5;124m\"\u001b[39m\u001b[38;5;124mRazvan Pascanu <r.pascanu@gmail>\u001b[39m\u001b[38;5;124m\"\u001b[39m\n\u001b[1;32m---> 41\u001b[0m \u001b[38;5;28;01mfrom\u001b[39;00m \u001b[38;5;21;01mtheano\u001b[39;00m\u001b[38;5;21;01m.\u001b[39;00m\u001b[38;5;21;01mscan_module\u001b[39;00m \u001b[38;5;28;01mimport\u001b[39;00m scan_opt\n\u001b[0;32m     42\u001b[0m \u001b[38;5;28;01mfrom\u001b[39;00m \u001b[38;5;21;01mtheano\u001b[39;00m\u001b[38;5;21;01m.\u001b[39;00m\u001b[38;5;21;01mscan_module\u001b[39;00m\u001b[38;5;21;01m.\u001b[39;00m\u001b[38;5;21;01mscan\u001b[39;00m \u001b[38;5;28;01mimport\u001b[39;00m scan\n\u001b[0;32m     43\u001b[0m \u001b[38;5;28;01mfrom\u001b[39;00m \u001b[38;5;21;01mtheano\u001b[39;00m\u001b[38;5;21;01m.\u001b[39;00m\u001b[38;5;21;01mscan_module\u001b[39;00m\u001b[38;5;21;01m.\u001b[39;00m\u001b[38;5;21;01mscan_checkpoints\u001b[39;00m \u001b[38;5;28;01mimport\u001b[39;00m scan_checkpoints\n",
      "File \u001b[1;32m~\\AppData\\Local\\Programs\\Python\\Python310\\lib\\site-packages\\theano\\scan_module\\scan_opt.py:60\u001b[0m\n\u001b[0;32m     57\u001b[0m \u001b[38;5;28;01mimport\u001b[39;00m \u001b[38;5;21;01mnumpy\u001b[39;00m \u001b[38;5;28;01mas\u001b[39;00m \u001b[38;5;21;01mnp\u001b[39;00m\n\u001b[0;32m     59\u001b[0m \u001b[38;5;28;01mimport\u001b[39;00m \u001b[38;5;21;01mtheano\u001b[39;00m\n\u001b[1;32m---> 60\u001b[0m \u001b[38;5;28;01mfrom\u001b[39;00m \u001b[38;5;21;01mtheano\u001b[39;00m \u001b[38;5;28;01mimport\u001b[39;00m tensor, scalar\n\u001b[0;32m     61\u001b[0m \u001b[38;5;28;01mfrom\u001b[39;00m \u001b[38;5;21;01mtheano\u001b[39;00m\u001b[38;5;21;01m.\u001b[39;00m\u001b[38;5;21;01mtensor\u001b[39;00m \u001b[38;5;28;01mimport\u001b[39;00m opt, get_scalar_constant_value, Alloc, AllocEmpty\n\u001b[0;32m     62\u001b[0m \u001b[38;5;28;01mfrom\u001b[39;00m \u001b[38;5;21;01mtheano\u001b[39;00m \u001b[38;5;28;01mimport\u001b[39;00m gof\n",
      "File \u001b[1;32m~\\AppData\\Local\\Programs\\Python\\Python310\\lib\\site-packages\\theano\\tensor\\__init__.py:17\u001b[0m\n\u001b[0;32m     15\u001b[0m \u001b[38;5;28;01mfrom\u001b[39;00m \u001b[38;5;21;01mtheano\u001b[39;00m\u001b[38;5;21;01m.\u001b[39;00m\u001b[38;5;21;01mtensor\u001b[39;00m \u001b[38;5;28;01mimport\u001b[39;00m opt\n\u001b[0;32m     16\u001b[0m \u001b[38;5;28;01mfrom\u001b[39;00m \u001b[38;5;21;01mtheano\u001b[39;00m\u001b[38;5;21;01m.\u001b[39;00m\u001b[38;5;21;01mtensor\u001b[39;00m \u001b[38;5;28;01mimport\u001b[39;00m opt_uncanonicalize\n\u001b[1;32m---> 17\u001b[0m \u001b[38;5;28;01mfrom\u001b[39;00m \u001b[38;5;21;01mtheano\u001b[39;00m\u001b[38;5;21;01m.\u001b[39;00m\u001b[38;5;21;01mtensor\u001b[39;00m \u001b[38;5;28;01mimport\u001b[39;00m blas\n\u001b[0;32m     18\u001b[0m \u001b[38;5;28;01mfrom\u001b[39;00m \u001b[38;5;21;01mtheano\u001b[39;00m\u001b[38;5;21;01m.\u001b[39;00m\u001b[38;5;21;01mtensor\u001b[39;00m \u001b[38;5;28;01mimport\u001b[39;00m blas_scipy\n\u001b[0;32m     19\u001b[0m \u001b[38;5;28;01mfrom\u001b[39;00m \u001b[38;5;21;01mtheano\u001b[39;00m\u001b[38;5;21;01m.\u001b[39;00m\u001b[38;5;21;01mtensor\u001b[39;00m \u001b[38;5;28;01mimport\u001b[39;00m blas_c\n",
      "File \u001b[1;32m~\\AppData\\Local\\Programs\\Python\\Python310\\lib\\site-packages\\theano\\tensor\\blas.py:155\u001b[0m\n\u001b[0;32m    153\u001b[0m \u001b[38;5;28;01mfrom\u001b[39;00m \u001b[38;5;21;01mtheano\u001b[39;00m\u001b[38;5;21;01m.\u001b[39;00m\u001b[38;5;21;01mscalar\u001b[39;00m \u001b[38;5;28;01mimport\u001b[39;00m \u001b[38;5;28mbool\u001b[39m \u001b[38;5;28;01mas\u001b[39;00m bool_t\n\u001b[0;32m    154\u001b[0m \u001b[38;5;28;01mfrom\u001b[39;00m \u001b[38;5;21;01mtheano\u001b[39;00m\u001b[38;5;21;01m.\u001b[39;00m\u001b[38;5;21;01mtensor\u001b[39;00m \u001b[38;5;28;01mimport\u001b[39;00m basic \u001b[38;5;28;01mas\u001b[39;00m T\n\u001b[1;32m--> 155\u001b[0m \u001b[38;5;28;01mfrom\u001b[39;00m \u001b[38;5;21;01mtheano\u001b[39;00m\u001b[38;5;21;01m.\u001b[39;00m\u001b[38;5;21;01mtensor\u001b[39;00m\u001b[38;5;21;01m.\u001b[39;00m\u001b[38;5;21;01mblas_headers\u001b[39;00m \u001b[38;5;28;01mimport\u001b[39;00m blas_header_text\n\u001b[0;32m    156\u001b[0m \u001b[38;5;28;01mfrom\u001b[39;00m \u001b[38;5;21;01mtheano\u001b[39;00m\u001b[38;5;21;01m.\u001b[39;00m\u001b[38;5;21;01mtensor\u001b[39;00m\u001b[38;5;21;01m.\u001b[39;00m\u001b[38;5;21;01mblas_headers\u001b[39;00m \u001b[38;5;28;01mimport\u001b[39;00m blas_header_version\n\u001b[0;32m    157\u001b[0m \u001b[38;5;28;01mfrom\u001b[39;00m \u001b[38;5;21;01mtheano\u001b[39;00m\u001b[38;5;21;01m.\u001b[39;00m\u001b[38;5;21;01mtensor\u001b[39;00m\u001b[38;5;21;01m.\u001b[39;00m\u001b[38;5;21;01mopt\u001b[39;00m \u001b[38;5;28;01mimport\u001b[39;00m in2out, local_dimshuffle_lift\n",
      "File \u001b[1;32m~\\AppData\\Local\\Programs\\Python\\Python310\\lib\\site-packages\\theano\\tensor\\blas_headers.py:987\u001b[0m\n\u001b[0;32m    970\u001b[0m             header \u001b[38;5;241m+\u001b[39m\u001b[38;5;241m=\u001b[39m textwrap\u001b[38;5;241m.\u001b[39mdedent(\u001b[38;5;124m\"\"\"\u001b[39m\u001b[38;5;130;01m\\\u001b[39;00m\n\u001b[0;32m    971\u001b[0m \u001b[38;5;124m                    static float sdot_(int* Nx, float* x, int* Sx, float* y, int* Sy)\u001b[39m\n\u001b[0;32m    972\u001b[0m \u001b[38;5;124m                    \u001b[39m\u001b[38;5;124m{\u001b[39m\n\u001b[1;32m   (...)\u001b[0m\n\u001b[0;32m    981\u001b[0m \u001b[38;5;124m                    }\u001b[39m\n\u001b[0;32m    982\u001b[0m \u001b[38;5;124m                    \u001b[39m\u001b[38;5;124m\"\"\"\u001b[39m)\n\u001b[0;32m    984\u001b[0m     \u001b[38;5;28;01mreturn\u001b[39;00m header \u001b[38;5;241m+\u001b[39m blas_code\n\u001b[1;32m--> 987\u001b[0m \u001b[38;5;28;01mif\u001b[39;00m \u001b[38;5;129;01mnot\u001b[39;00m \u001b[43mconfig\u001b[49m\u001b[38;5;241;43m.\u001b[39;49m\u001b[43mblas\u001b[49m\u001b[38;5;241;43m.\u001b[39;49m\u001b[43mldflags\u001b[49m:\n\u001b[0;32m    988\u001b[0m     _logger\u001b[38;5;241m.\u001b[39mwarning(\u001b[38;5;124m'\u001b[39m\u001b[38;5;124mUsing NumPy C-API based implementation for BLAS functions.\u001b[39m\u001b[38;5;124m'\u001b[39m)\n\u001b[0;32m    991\u001b[0m \u001b[38;5;28;01mdef\u001b[39;00m \u001b[38;5;21mmkl_threads_text\u001b[39m():\n",
      "File \u001b[1;32m~\\AppData\\Local\\Programs\\Python\\Python310\\lib\\site-packages\\theano\\configparser.py:332\u001b[0m, in \u001b[0;36mConfigParam.__get__\u001b[1;34m(self, cls, type_, delete_key)\u001b[0m\n\u001b[0;32m    330\u001b[0m \u001b[38;5;28;01mexcept\u001b[39;00m \u001b[38;5;167;01mKeyError\u001b[39;00m:\n\u001b[0;32m    331\u001b[0m     \u001b[38;5;28;01mif\u001b[39;00m callable(\u001b[38;5;28mself\u001b[39m\u001b[38;5;241m.\u001b[39mdefault):\n\u001b[1;32m--> 332\u001b[0m         val_str \u001b[38;5;241m=\u001b[39m \u001b[38;5;28;43mself\u001b[39;49m\u001b[38;5;241;43m.\u001b[39;49m\u001b[43mdefault\u001b[49m\u001b[43m(\u001b[49m\u001b[43m)\u001b[49m\n\u001b[0;32m    333\u001b[0m     \u001b[38;5;28;01melse\u001b[39;00m:\n\u001b[0;32m    334\u001b[0m         val_str \u001b[38;5;241m=\u001b[39m \u001b[38;5;28mself\u001b[39m\u001b[38;5;241m.\u001b[39mdefault\n",
      "File \u001b[1;32m~\\AppData\\Local\\Programs\\Python\\Python310\\lib\\site-packages\\theano\\configdefaults.py:1284\u001b[0m, in \u001b[0;36mdefault_blas_ldflags\u001b[1;34m()\u001b[0m\n\u001b[0;32m   1279\u001b[0m \u001b[38;5;28;01mtry\u001b[39;00m:\n\u001b[0;32m   1280\u001b[0m     \u001b[38;5;28;01mif\u001b[39;00m (\u001b[38;5;28mhasattr\u001b[39m(np\u001b[38;5;241m.\u001b[39mdistutils, \u001b[38;5;124m'\u001b[39m\u001b[38;5;124m__config__\u001b[39m\u001b[38;5;124m'\u001b[39m) \u001b[38;5;129;01mand\u001b[39;00m\n\u001b[0;32m   1281\u001b[0m             np\u001b[38;5;241m.\u001b[39mdistutils\u001b[38;5;241m.\u001b[39m__config__):\n\u001b[0;32m   1282\u001b[0m         \u001b[38;5;66;03m# If the old private interface is available use it as it\u001b[39;00m\n\u001b[0;32m   1283\u001b[0m         \u001b[38;5;66;03m# don't print information to the user.\u001b[39;00m\n\u001b[1;32m-> 1284\u001b[0m         blas_info \u001b[38;5;241m=\u001b[39m \u001b[43mnp\u001b[49m\u001b[38;5;241;43m.\u001b[39;49m\u001b[43mdistutils\u001b[49m\u001b[38;5;241;43m.\u001b[39;49m\u001b[43m__config__\u001b[49m\u001b[38;5;241;43m.\u001b[39;49m\u001b[43mblas_opt_info\u001b[49m\n\u001b[0;32m   1285\u001b[0m     \u001b[38;5;28;01melse\u001b[39;00m:\n\u001b[0;32m   1286\u001b[0m         \u001b[38;5;66;03m# We do this import only here, as in some setup, if we\u001b[39;00m\n\u001b[0;32m   1287\u001b[0m         \u001b[38;5;66;03m# just import theano and exit, with the import at global\u001b[39;00m\n\u001b[1;32m   (...)\u001b[0m\n\u001b[0;32m   1292\u001b[0m \n\u001b[0;32m   1293\u001b[0m         \u001b[38;5;66;03m# This happen with Python 2.7.3 |EPD 7.3-1 and numpy 1.8.1\u001b[39;00m\n\u001b[0;32m   1294\u001b[0m         \u001b[38;5;28;01mimport\u001b[39;00m \u001b[38;5;21;01mnumpy\u001b[39;00m\u001b[38;5;21;01m.\u001b[39;00m\u001b[38;5;21;01mdistutils\u001b[39;00m\u001b[38;5;21;01m.\u001b[39;00m\u001b[38;5;21;01msystem_info\u001b[39;00m  \u001b[38;5;66;03m# noqa\u001b[39;00m\n",
      "\u001b[1;31mAttributeError\u001b[0m: module 'numpy.distutils.__config__' has no attribute 'blas_opt_info'"
     ]
    }
   ],
   "source": [
    "import theano\n",
    "from theano import *\n",
    "import theano.tensor as T\n",
    "import numpy as np\n",
    "import pandas as pd\n",
    "from theano import function"
   ]
  },
  {
   "cell_type": "code",
   "execution_count": 16,
   "id": "caf87543",
   "metadata": {},
   "outputs": [
    {
     "ename": "NameError",
     "evalue": "name 'T' is not defined",
     "output_type": "error",
     "traceback": [
      "\u001b[1;31m---------------------------------------------------------------------------\u001b[0m",
      "\u001b[1;31mNameError\u001b[0m                                 Traceback (most recent call last)",
      "Cell \u001b[1;32mIn [16], line 1\u001b[0m\n\u001b[1;32m----> 1\u001b[0m v1 \u001b[38;5;241m=\u001b[39m \u001b[43mT\u001b[49m\u001b[38;5;241m.\u001b[39mdscalar()\n\u001b[0;32m      2\u001b[0m v2 \u001b[38;5;241m=\u001b[39m T\u001b[38;5;241m.\u001b[39mscalar()\n\u001b[0;32m      3\u001b[0m \u001b[38;5;66;03m# subtraction\u001b[39;00m\n",
      "\u001b[1;31mNameError\u001b[0m: name 'T' is not defined"
     ]
    }
   ],
   "source": [
    "v1 = T.dscalar()\n",
    "v2 = T.scalar()\n",
    "# subtraction\n",
    "sres = v1-v2"
   ]
  },
  {
   "cell_type": "code",
   "execution_count": 17,
   "id": "a9738999",
   "metadata": {},
   "outputs": [
    {
     "ename": "NameError",
     "evalue": "name 'v1' is not defined",
     "output_type": "error",
     "traceback": [
      "\u001b[1;31m---------------------------------------------------------------------------\u001b[0m",
      "\u001b[1;31mNameError\u001b[0m                                 Traceback (most recent call last)",
      "Cell \u001b[1;32mIn [17], line 1\u001b[0m\n\u001b[1;32m----> 1\u001b[0m ares \u001b[38;5;241m=\u001b[39m \u001b[43mv1\u001b[49m\u001b[38;5;241m+\u001b[39mv2\n\u001b[0;32m      2\u001b[0m \u001b[38;5;66;03m#convert the results into functions\u001b[39;00m\n\u001b[0;32m      3\u001b[0m calcsres \u001b[38;5;241m=\u001b[39m theano\u001b[38;5;241m.\u001b[39mfunction([v1,v2],sres)\n",
      "\u001b[1;31mNameError\u001b[0m: name 'v1' is not defined"
     ]
    }
   ],
   "source": [
    "ares = v1+v2\n",
    "#convert the results into functions\n",
    "calcsres = theano.function([v1,v2],sres)\n",
    "calcares = theano.function([v1,v2],ares)\n",
    "calcares(12,23)\n",
    "calcsres(13,12)\n",
    "x = T.dmatrix('x')\n",
    "y = T.dmatrix('y')"
   ]
  },
  {
   "cell_type": "code",
   "execution_count": 18,
   "id": "eb447464",
   "metadata": {},
   "outputs": [
    {
     "ename": "ValueError",
     "evalue": "operands could not be broadcast together with shapes (768,8) (768,) ",
     "output_type": "error",
     "traceback": [
      "\u001b[1;31m---------------------------------------------------------------------------\u001b[0m",
      "\u001b[1;31mValueError\u001b[0m                                Traceback (most recent call last)",
      "Cell \u001b[1;32mIn [18], line 1\u001b[0m\n\u001b[1;32m----> 1\u001b[0m z \u001b[38;5;241m=\u001b[39m \u001b[43mx\u001b[49m\u001b[38;5;241;43m+\u001b[39;49m\u001b[43my\u001b[49m\n\u001b[0;32m      2\u001b[0m func \u001b[38;5;241m=\u001b[39m function([x,y],z)\n\u001b[0;32m      3\u001b[0m m1 \u001b[38;5;241m=\u001b[39m [\n\u001b[0;32m      4\u001b[0m [\u001b[38;5;241m1\u001b[39m,\u001b[38;5;241m2\u001b[39m],\n\u001b[0;32m      5\u001b[0m [\u001b[38;5;241m3\u001b[39m,\u001b[38;5;241m4\u001b[39m]\n\u001b[0;32m      6\u001b[0m ]\n",
      "\u001b[1;31mValueError\u001b[0m: operands could not be broadcast together with shapes (768,8) (768,) "
     ]
    }
   ],
   "source": [
    "z = x+y\n",
    "func = function([x,y],z)\n",
    "m1 = [\n",
    "[1,2],\n",
    "[3,4]\n",
    "]\n",
    "m2 = [\n",
    "[4,5],\n",
    "[6,7]\n",
    "]\n",
    "func(m1,m2)"
   ]
  },
  {
   "cell_type": "code",
   "execution_count": null,
   "id": "5a1221c5",
   "metadata": {},
   "outputs": [],
   "source": []
  }
 ],
 "metadata": {
  "kernelspec": {
   "display_name": "Python 3 (ipykernel)",
   "language": "python",
   "name": "python3"
  },
  "language_info": {
   "codemirror_mode": {
    "name": "ipython",
    "version": 3
   },
   "file_extension": ".py",
   "mimetype": "text/x-python",
   "name": "python",
   "nbconvert_exporter": "python",
   "pygments_lexer": "ipython3",
   "version": "3.10.4"
  }
 },
 "nbformat": 4,
 "nbformat_minor": 5
}
