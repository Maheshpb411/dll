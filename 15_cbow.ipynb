{
 "cells": [
  {
   "cell_type": "code",
   "execution_count": 1,
   "metadata": {
    "colab": {
     "base_uri": "https://localhost:8080/"
    },
    "id": "C_Ag4kYkuR61",
    "outputId": "70126638-ba20-469f-fec8-b851570ca638"
   },
   "outputs": [
    {
     "name": "stderr",
     "output_type": "stream",
     "text": [
      "[nltk_data] Downloading package stopwords to C:\\Users\\Mahi's\n",
      "[nltk_data]     Pc\\AppData\\Roaming\\nltk_data...\n",
      "[nltk_data]   Package stopwords is already up-to-date!\n"
     ]
    }
   ],
   "source": [
    "import nltk\n",
    "nltk.download('stopwords')\n",
    "\n",
    "from nltk.corpus import stopwords\n",
    "import string\n",
    "import re\n",
    "from os import listdir\n",
    "from collections import Counter\n",
    "from nltk.corpus import stopwords\n",
    "from numpy import array\n",
    "from keras.preprocessing.text import Tokenizer\n",
    "from keras.utils.vis_utils import plot_model\n",
    "from keras.models import Sequential\n",
    "from keras.layers import Dense\n",
    "from keras.layers import Flatten\n",
    "from keras.layers import Embedding\n",
    "from keras.layers.convolutional import Conv1D\n",
    "from keras.layers.convolutional import MaxPooling1D\n",
    "from keras.models import load_model\n",
    "from pandas import DataFrame\n",
    "from matplotlib import pyplot"
   ]
  },
  {
   "cell_type": "code",
   "execution_count": 2,
   "metadata": {
    "id": "68tz9Fliulw2"
   },
   "outputs": [],
   "source": [
    "def load_doc(filename):\n",
    "  file = open(filename, 'r')\n",
    "  text = file.read()\n",
    "  file.close() \n",
    "  return text"
   ]
  },
  {
   "cell_type": "code",
   "execution_count": 3,
   "metadata": {
    "id": "A_e5NJhyu4qj"
   },
   "outputs": [],
   "source": [
    "# turn a doc into clean tokens\n",
    "def clean_doc(doc):\n",
    "  # split into tokens by white space\n",
    "  tokens = doc.split()\n",
    "  # prepare regex for char filtering\n",
    "  re_punc = re.compile('[%s]' % re.escape(string.punctuation))\n",
    "  # remove punctuation from each word\n",
    "  tokens = [re_punc.sub('', w) for w in tokens]\n",
    "  # remove remaining tokens that are not alphabetic\n",
    "  tokens = [word for word in tokens if word.isalpha()]\n",
    "  # filter out stop words\n",
    "  stop_words = set(stopwords.words('english'))\n",
    "  tokens = [w for w in tokens if not w in stop_words]\n",
    "  # filter out short tokens\n",
    "  tokens = [word for word in tokens if len(word) > 1]\n",
    "  return tokens"
   ]
  },
  {
   "cell_type": "code",
   "execution_count": 5,
   "metadata": {
    "colab": {
     "base_uri": "https://localhost:8080/"
    },
    "id": "hDl1K16ScI3P",
    "outputId": "d17d8215-8863-4665-cef1-439236cbfde5"
   },
   "outputs": [
    {
     "name": "stdout",
     "output_type": "stream",
     "text": [
      "['films', 'adapted', 'comic', 'books', 'plenty', 'success', 'whether', 'theyre', 'superheroes', 'batman', 'superman', 'spawn', 'geared', 'toward', 'kids', 'casper', 'arthouse', 'crowd', 'ghost', 'world', 'theres', 'never', 'really', 'comic', 'book', 'like', 'hell', 'starters', 'created', 'alan', 'moore', 'eddie', 'campbell', 'brought', 'medium', 'whole', 'new', 'level', 'mid', 'series', 'called', 'watchmen', 'say', 'moore', 'campbell', 'thoroughly', 'researched', 'subject', 'jack', 'ripper', 'would', 'like', 'saying', 'michael', 'jackson', 'starting', 'look', 'little', 'odd', 'book', 'graphic', 'novel', 'pages', 'long', 'includes', 'nearly', 'consist', 'nothing', 'footnotes', 'words', 'dont', 'dismiss', 'film', 'source', 'get', 'past', 'whole', 'comic', 'book', 'thing', 'might', 'find', 'another', 'stumbling', 'block', 'hells', 'directors', 'albert', 'allen', 'hughes', 'getting', 'hughes', 'brothers', 'direct', 'seems', 'almost', 'ludicrous', 'casting', 'carrot', 'top', 'well', 'anything', 'riddle', 'better', 'direct', 'film', 'thats', 'set', 'ghetto', 'features', 'really', 'violent', 'street', 'crime', 'mad', 'geniuses', 'behind', 'menace', 'ii', 'society', 'ghetto', 'question', 'course', 'whitechapel', 'londons', 'east', 'end', 'filthy', 'sooty', 'place', 'whores', 'called', 'unfortunates', 'starting', 'get', 'little', 'nervous', 'mysterious', 'psychopath', 'carving', 'profession', 'surgical', 'precision', 'first', 'stiff', 'turns', 'copper', 'peter', 'godley', 'robbie', 'coltrane', 'world', 'enough', 'calls', 'inspector', 'frederick', 'abberline', 'johnny', 'depp', 'blow', 'crack', 'case', 'abberline', 'widower', 'prophetic', 'dreams', 'unsuccessfully', 'tries', 'quell', 'copious', 'amounts', 'absinthe', 'opium', 'upon', 'arriving', 'whitechapel', 'befriends', 'unfortunate', 'named', 'mary', 'kelly', 'heather', 'graham', 'say', 'isnt', 'proceeds', 'investigate', 'horribly', 'gruesome', 'crimes', 'even', 'police', 'surgeon', 'cant', 'stomach', 'dont', 'think', 'anyone', 'needs', 'briefed', 'jack', 'ripper', 'wont', 'go', 'particulars', 'say', 'moore', 'campbell', 'unique', 'interesting', 'theory', 'identity', 'killer', 'reasons', 'chooses', 'slay', 'comic', 'dont', 'bother', 'cloaking', 'identity', 'ripper', 'screenwriters', 'terry', 'hayes', 'vertical', 'limit', 'rafael', 'yglesias', 'les', 'mis', 'rables', 'good', 'job', 'keeping', 'hidden', 'viewers', 'end', 'funny', 'watch', 'locals', 'blindly', 'point', 'finger', 'blame', 'jews', 'indians', 'englishman', 'could', 'never', 'capable', 'committing', 'ghastly', 'acts', 'hells', 'ending', 'whistling', 'stonecutters', 'song', 'simpsons', 'days', 'holds', 'back', 'electric', 'carwho', 'made', 'steve', 'guttenberg', 'star', 'dont', 'worry', 'itll', 'make', 'sense', 'see', 'onto', 'hells', 'appearance', 'certainly', 'dark', 'bleak', 'enough', 'surprising', 'see', 'much', 'looks', 'like', 'tim', 'burton', 'film', 'planet', 'apes', 'times', 'seems', 'like', 'sleepy', 'hollow', 'print', 'saw', 'wasnt', 'completely', 'finished', 'color', 'music', 'finalized', 'comments', 'marilyn', 'manson', 'cinematographer', 'peter', 'deming', 'dont', 'say', 'word', 'ably', 'captures', 'dreariness', 'victorianera', 'london', 'helped', 'make', 'flashy', 'killing', 'scenes', 'remind', 'crazy', 'flashbacks', 'twin', 'peaks', 'even', 'though', 'violence', 'film', 'pales', 'comparison', 'blackandwhite', 'comic', 'oscar', 'winner', 'martin', 'childs', 'shakespeare', 'love', 'production', 'design', 'turns', 'original', 'prague', 'surroundings', 'one', 'creepy', 'place', 'even', 'acting', 'hell', 'solid', 'dreamy', 'depp', 'turning', 'typically', 'strong', 'performance', 'deftly', 'handling', 'british', 'accent', 'ians', 'holm', 'joe', 'goulds', 'secret', 'richardson', 'dalmatians', 'log', 'great', 'supporting', 'roles', 'big', 'surprise', 'graham', 'cringed', 'first', 'time', 'opened', 'mouth', 'imagining', 'attempt', 'irish', 'accent', 'actually', 'wasnt', 'half', 'bad', 'film', 'however', 'good', 'strong', 'violencegore', 'sexuality', 'language', 'drug', 'content']\n"
     ]
    }
   ],
   "source": [
    "filename = 'D:/dl/content/txt_sentoken/pos/cv000_29590.txt'\n",
    "text = load_doc(filename)\n",
    "tokens = clean_doc(text)\n",
    "print(tokens)"
   ]
  },
  {
   "cell_type": "code",
   "execution_count": 6,
   "metadata": {
    "id": "i8Cj9YkLvWpM"
   },
   "outputs": [],
   "source": [
    "def add_doc_to_vocab(filename, vocab):\n",
    "  # load doc\n",
    "  doc = load_doc(filename)\n",
    "  # clean doc\n",
    "  tokens = clean_doc(doc)\n",
    "  # update counts\n",
    "  vocab.update(tokens)"
   ]
  },
  {
   "cell_type": "code",
   "execution_count": 7,
   "metadata": {
    "id": "94XKYCKNvcmN"
   },
   "outputs": [],
   "source": [
    "# load doc, clean and return line of tokens\n",
    "def doc_to_line(filename, vocab):\n",
    "  # load the doc\n",
    "  doc = load_doc(filename)\n",
    "  # clean doc\n",
    "  tokens = clean_doc(doc)\n",
    "  # filter by vocab\n",
    "  tokens = [w for w in tokens if w in vocab]\n",
    "  return ' '.join(tokens)"
   ]
  },
  {
   "cell_type": "code",
   "execution_count": 8,
   "metadata": {
    "id": "-AnztYBHvldh"
   },
   "outputs": [],
   "source": [
    "# load all docs in a directory\n",
    "def process_docs(directory, vocab):\n",
    "  # walk through all files in the folder\n",
    "  for filename in listdir(directory):\n",
    "  # skip any reviews in the test set\n",
    "    if filename.startswith('cv9'):\n",
    "      continue\n",
    "    # create the full path of the file to open\n",
    "    path = directory + '/' + filename\n",
    "    # add doc to vocab\n",
    "    add_doc_to_vocab(path, vocab)"
   ]
  },
  {
   "cell_type": "code",
   "execution_count": 9,
   "metadata": {
    "colab": {
     "base_uri": "https://localhost:8080/"
    },
    "id": "Ks7xJ8jMwA5Q",
    "outputId": "dbc9b19f-a141-49ce-ba66-36d3a7e58410"
   },
   "outputs": [
    {
     "name": "stdout",
     "output_type": "stream",
     "text": [
      "44276\n",
      "[('film', 7983), ('one', 4946), ('movie', 4826), ('like', 3201), ('even', 2262), ('good', 2080), ('time', 2041), ('story', 1907), ('films', 1873), ('would', 1844), ('much', 1824), ('also', 1757), ('characters', 1735), ('get', 1724), ('character', 1703), ('two', 1643), ('first', 1588), ('see', 1557), ('way', 1515), ('well', 1511), ('make', 1418), ('really', 1407), ('little', 1351), ('life', 1334), ('plot', 1288), ('people', 1269), ('could', 1248), ('bad', 1248), ('scene', 1241), ('movies', 1238), ('never', 1201), ('best', 1179), ('new', 1140), ('scenes', 1135), ('man', 1131), ('many', 1130), ('doesnt', 1118), ('know', 1092), ('dont', 1086), ('hes', 1024), ('great', 1014), ('another', 992), ('action', 985), ('love', 977), ('us', 967), ('go', 952), ('director', 948), ('end', 946), ('something', 945), ('still', 936)]\n"
     ]
    }
   ],
   "source": [
    "# define vocab\n",
    "vocab = Counter()\n",
    "# add all docs to vocab\n",
    "process_docs('D:/dl/content/txt_sentoken/pos', vocab)\n",
    "process_docs('D:/dl/content/txt_sentoken/neg', vocab)\n",
    "# print the size of the vocab\n",
    "print(len(vocab))\n",
    "# print the top words in the vocab\n",
    "print(vocab.most_common(50))"
   ]
  },
  {
   "cell_type": "code",
   "execution_count": 10,
   "metadata": {
    "colab": {
     "base_uri": "https://localhost:8080/"
    },
    "id": "MhaFw23bwbul",
    "outputId": "c452e20c-a901-4533-bc12-449649e05ea3"
   },
   "outputs": [
    {
     "name": "stdout",
     "output_type": "stream",
     "text": [
      "25767\n"
     ]
    }
   ],
   "source": [
    "# keep tokens with a min occurrence\n",
    "min_occurrence = 2\n",
    "tokens = [k for k,c in vocab.items() if c >= min_occurrence]\n",
    "print(len(tokens))"
   ]
  },
  {
   "cell_type": "code",
   "execution_count": 11,
   "metadata": {
    "id": "aGapnPRuwh9L"
   },
   "outputs": [],
   "source": [
    "# save list to file\n",
    "# save list to file\n",
    "def save_list(lines, filename):\n",
    "  # convert lines to a single blob of text\n",
    "  data = '\\n'.join(lines)\n",
    "  # open file\n",
    "  file = open(filename, 'w')\n",
    "  # write text\n",
    "  file.write(data)\n",
    "  # close file\n",
    "  file.close()\n",
    "# save tokens to a vocabulary file\n",
    "save_list(tokens, 'vocab.txt')"
   ]
  },
  {
   "cell_type": "code",
   "execution_count": 12,
   "metadata": {
    "id": "Plco2XNweoYG"
   },
   "outputs": [],
   "source": [
    "def process_docs(directory, vocab, is_trian):\n",
    "  lines = list()\n",
    "  # walk through all files in the folder\n",
    "  for filename in listdir(directory):\n",
    "    # skip any reviews in the test set\n",
    "    if is_trian and filename.startswith('cv9'):\n",
    "      continue\n",
    "    if not is_trian and not filename.startswith('cv9'):\n",
    "      continue\n",
    "    # create the full path of the file to open\n",
    "    path = directory + '/' + filename\n",
    "    # load and clean the doc\n",
    "    line = doc_to_line(path, vocab)\n",
    "    # add to list\n",
    "    lines.append(line)\n",
    "  return lines"
   ]
  },
  {
   "cell_type": "code",
   "execution_count": 13,
   "metadata": {
    "id": "BKyvWVZBwWPV"
   },
   "outputs": [],
   "source": [
    "def prepare_data(train_docs, test_docs, mode):\n",
    "  # create the tokenizer\n",
    "  tokenizer = Tokenizer()\n",
    "  # fit the tokenizer on the documents\n",
    "  tokenizer.fit_on_texts(train_docs)\n",
    "  # encode training data set\n",
    "  Xtrain = tokenizer.texts_to_matrix(train_docs, mode=mode)\n",
    "  # encode training data set\n",
    "  Xtest = tokenizer.texts_to_matrix(test_docs, mode=mode)\n",
    "  return Xtrain, Xtest"
   ]
  },
  {
   "cell_type": "code",
   "execution_count": 14,
   "metadata": {
    "id": "jV0HlAVzwK34"
   },
   "outputs": [],
   "source": [
    "def evaluate_mode(Xtrain, ytrain, Xtest, ytest):\n",
    "  scores = list()\n",
    "  n_words = Xtest.shape[1]\n",
    "  # define network\n",
    "  model = Sequential()\n",
    "  model.add(Dense(50, input_shape=(n_words,), activation='relu'))\n",
    "  model.add(Dense(1, activation='sigmoid'))\n",
    "  # compile network\n",
    "  model.compile(loss='binary_crossentropy', optimizer='adam', metrics=['accuracy'])\n",
    "  # fit network\n",
    "  model.fit(Xtrain, ytrain, epochs=50, verbose=2)\n",
    "  # evaluate\n",
    "  loss, acc = model.evaluate(Xtest, ytest, verbose=0)\n",
    "  scores.append(acc)\n",
    "  print('%d accuracy: %s', acc)\n",
    "  return scores"
   ]
  },
  {
   "cell_type": "code",
   "execution_count": 16,
   "metadata": {
    "id": "Ofciwzgfwp5M"
   },
   "outputs": [],
   "source": [
    "vocab_filename = 'vocab.txt'\n",
    "vocab = load_doc(vocab_filename)\n",
    "vocab = vocab.split()\n",
    "vocab = set(vocab)\n",
    "# load all training reviews\n",
    "positive_lines = process_docs('D:/dl/content/txt_sentoken/pos', vocab, True)\n",
    "negative_lines = process_docs('D:/dl/content/txt_sentoken/neg', vocab, True)\n",
    "train_docs = negative_lines + positive_lines\n",
    "# load all test reviews\n",
    "positive_lines = process_docs('D:/dl/content/txt_sentoken/pos', vocab, False)\n",
    "negative_lines = process_docs('D:/dl/content/txt_sentoken/neg', vocab, False)\n",
    "test_docs = negative_lines + positive_lines\n",
    "# prepare labels\n",
    "ytrain = array([0 for _ in range(900)] + [1 for _ in range(900)])\n",
    "ytest = array([0 for _ in range(100)] + [1 for _ in range(100)])"
   ]
  },
  {
   "cell_type": "code",
   "execution_count": 17,
   "metadata": {
    "id": "W9KvvUgOwnEV"
   },
   "outputs": [],
   "source": [
    "save_list(tokens, 'vocab.txt')"
   ]
  },
  {
   "cell_type": "code",
   "execution_count": 18,
   "metadata": {
    "id": "EMaPEd-qwxjS"
   },
   "outputs": [
    {
     "name": "stdout",
     "output_type": "stream",
     "text": [
      "Epoch 1/50\n",
      "57/57 - 6s - loss: 0.4678 - accuracy: 0.7883 - 6s/epoch - 97ms/step\n",
      "Epoch 2/50\n",
      "57/57 - 2s - loss: 0.0558 - accuracy: 0.9967 - 2s/epoch - 27ms/step\n",
      "Epoch 3/50\n",
      "57/57 - 1s - loss: 0.0159 - accuracy: 1.0000 - 1s/epoch - 26ms/step\n",
      "Epoch 4/50\n",
      "57/57 - 2s - loss: 0.0072 - accuracy: 1.0000 - 2s/epoch - 31ms/step\n",
      "Epoch 5/50\n",
      "57/57 - 1s - loss: 0.0042 - accuracy: 1.0000 - 1s/epoch - 25ms/step\n",
      "Epoch 6/50\n",
      "57/57 - 1s - loss: 0.0028 - accuracy: 1.0000 - 1s/epoch - 23ms/step\n",
      "Epoch 7/50\n",
      "57/57 - 1s - loss: 0.0020 - accuracy: 1.0000 - 1s/epoch - 26ms/step\n",
      "Epoch 8/50\n",
      "57/57 - 1s - loss: 0.0015 - accuracy: 1.0000 - 1s/epoch - 26ms/step\n",
      "Epoch 9/50\n",
      "57/57 - 2s - loss: 0.0011 - accuracy: 1.0000 - 2s/epoch - 27ms/step\n",
      "Epoch 10/50\n",
      "57/57 - 2s - loss: 8.7812e-04 - accuracy: 1.0000 - 2s/epoch - 28ms/step\n",
      "Epoch 11/50\n",
      "57/57 - 2s - loss: 6.7539e-04 - accuracy: 1.0000 - 2s/epoch - 26ms/step\n",
      "Epoch 12/50\n",
      "57/57 - 2s - loss: 5.2107e-04 - accuracy: 1.0000 - 2s/epoch - 33ms/step\n",
      "Epoch 13/50\n",
      "57/57 - 1s - loss: 4.0730e-04 - accuracy: 1.0000 - 1s/epoch - 25ms/step\n",
      "Epoch 14/50\n",
      "57/57 - 1s - loss: 3.2735e-04 - accuracy: 1.0000 - 1s/epoch - 25ms/step\n",
      "Epoch 15/50\n",
      "57/57 - 1s - loss: 2.5282e-04 - accuracy: 1.0000 - 1s/epoch - 26ms/step\n",
      "Epoch 16/50\n",
      "57/57 - 1s - loss: 1.9471e-04 - accuracy: 1.0000 - 1s/epoch - 26ms/step\n",
      "Epoch 17/50\n",
      "57/57 - 2s - loss: 1.5601e-04 - accuracy: 1.0000 - 2s/epoch - 36ms/step\n",
      "Epoch 18/50\n",
      "57/57 - 2s - loss: 1.2960e-04 - accuracy: 1.0000 - 2s/epoch - 33ms/step\n",
      "Epoch 19/50\n",
      "57/57 - 2s - loss: 1.0975e-04 - accuracy: 1.0000 - 2s/epoch - 32ms/step\n",
      "Epoch 20/50\n",
      "57/57 - 2s - loss: 9.4266e-05 - accuracy: 1.0000 - 2s/epoch - 32ms/step\n",
      "Epoch 21/50\n",
      "57/57 - 2s - loss: 8.1989e-05 - accuracy: 1.0000 - 2s/epoch - 33ms/step\n",
      "Epoch 22/50\n",
      "57/57 - 2s - loss: 7.1960e-05 - accuracy: 1.0000 - 2s/epoch - 32ms/step\n",
      "Epoch 23/50\n",
      "57/57 - 2s - loss: 6.3908e-05 - accuracy: 1.0000 - 2s/epoch - 27ms/step\n",
      "Epoch 24/50\n",
      "57/57 - 2s - loss: 5.6568e-05 - accuracy: 1.0000 - 2s/epoch - 32ms/step\n",
      "Epoch 25/50\n",
      "57/57 - 2s - loss: 5.0726e-05 - accuracy: 1.0000 - 2s/epoch - 27ms/step\n",
      "Epoch 26/50\n",
      "57/57 - 1s - loss: 4.5745e-05 - accuracy: 1.0000 - 1s/epoch - 20ms/step\n",
      "Epoch 27/50\n",
      "57/57 - 2s - loss: 4.1418e-05 - accuracy: 1.0000 - 2s/epoch - 27ms/step\n",
      "Epoch 28/50\n",
      "57/57 - 2s - loss: 3.7730e-05 - accuracy: 1.0000 - 2s/epoch - 33ms/step\n",
      "Epoch 29/50\n",
      "57/57 - 2s - loss: 3.4883e-05 - accuracy: 1.0000 - 2s/epoch - 31ms/step\n",
      "Epoch 30/50\n",
      "57/57 - 2s - loss: 3.1592e-05 - accuracy: 1.0000 - 2s/epoch - 32ms/step\n",
      "Epoch 31/50\n",
      "57/57 - 2s - loss: 2.9083e-05 - accuracy: 1.0000 - 2s/epoch - 30ms/step\n",
      "Epoch 32/50\n",
      "57/57 - 2s - loss: 2.6804e-05 - accuracy: 1.0000 - 2s/epoch - 28ms/step\n",
      "Epoch 33/50\n",
      "57/57 - 2s - loss: 2.4800e-05 - accuracy: 1.0000 - 2s/epoch - 28ms/step\n",
      "Epoch 34/50\n",
      "57/57 - 1s - loss: 2.3017e-05 - accuracy: 1.0000 - 1s/epoch - 23ms/step\n",
      "Epoch 35/50\n",
      "57/57 - 1s - loss: 2.1380e-05 - accuracy: 1.0000 - 1s/epoch - 24ms/step\n",
      "Epoch 36/50\n",
      "57/57 - 1s - loss: 1.9910e-05 - accuracy: 1.0000 - 1s/epoch - 23ms/step\n",
      "Epoch 37/50\n",
      "57/57 - 1s - loss: 1.8583e-05 - accuracy: 1.0000 - 1s/epoch - 24ms/step\n",
      "Epoch 38/50\n",
      "57/57 - 1s - loss: 1.7359e-05 - accuracy: 1.0000 - 1s/epoch - 25ms/step\n",
      "Epoch 39/50\n",
      "57/57 - 2s - loss: 1.6254e-05 - accuracy: 1.0000 - 2s/epoch - 29ms/step\n",
      "Epoch 40/50\n",
      "57/57 - 1s - loss: 1.5229e-05 - accuracy: 1.0000 - 1s/epoch - 24ms/step\n",
      "Epoch 41/50\n",
      "57/57 - 1s - loss: 1.4317e-05 - accuracy: 1.0000 - 1s/epoch - 26ms/step\n",
      "Epoch 42/50\n",
      "57/57 - 2s - loss: 1.3455e-05 - accuracy: 1.0000 - 2s/epoch - 28ms/step\n",
      "Epoch 43/50\n",
      "57/57 - 2s - loss: 1.2656e-05 - accuracy: 1.0000 - 2s/epoch - 27ms/step\n",
      "Epoch 44/50\n",
      "57/57 - 2s - loss: 1.1931e-05 - accuracy: 1.0000 - 2s/epoch - 28ms/step\n",
      "Epoch 45/50\n",
      "57/57 - 1s - loss: 1.1388e-05 - accuracy: 1.0000 - 1s/epoch - 26ms/step\n",
      "Epoch 46/50\n",
      "57/57 - 2s - loss: 1.0629e-05 - accuracy: 1.0000 - 2s/epoch - 31ms/step\n",
      "Epoch 47/50\n",
      "57/57 - 2s - loss: 1.0056e-05 - accuracy: 1.0000 - 2s/epoch - 31ms/step\n",
      "Epoch 48/50\n",
      "57/57 - 1s - loss: 9.5206e-06 - accuracy: 1.0000 - 1s/epoch - 25ms/step\n",
      "Epoch 49/50\n",
      "57/57 - 1s - loss: 9.0164e-06 - accuracy: 1.0000 - 1s/epoch - 26ms/step\n",
      "Epoch 50/50\n",
      "57/57 - 1s - loss: 8.5399e-06 - accuracy: 1.0000 - 1s/epoch - 26ms/step\n",
      "%d accuracy: %s 0.9049999713897705\n",
      "Epoch 1/50\n",
      "57/57 - 6s - loss: 0.4576 - accuracy: 0.7894 - 6s/epoch - 101ms/step\n",
      "Epoch 2/50\n",
      "57/57 - 2s - loss: 0.0537 - accuracy: 0.9944 - 2s/epoch - 31ms/step\n",
      "Epoch 3/50\n",
      "57/57 - 2s - loss: 0.0141 - accuracy: 1.0000 - 2s/epoch - 28ms/step\n",
      "Epoch 4/50\n",
      "57/57 - 2s - loss: 0.0069 - accuracy: 1.0000 - 2s/epoch - 42ms/step\n",
      "Epoch 5/50\n",
      "57/57 - 2s - loss: 0.0041 - accuracy: 1.0000 - 2s/epoch - 30ms/step\n",
      "Epoch 6/50\n",
      "57/57 - 2s - loss: 0.0026 - accuracy: 1.0000 - 2s/epoch - 30ms/step\n",
      "Epoch 7/50\n",
      "57/57 - 2s - loss: 0.0017 - accuracy: 1.0000 - 2s/epoch - 27ms/step\n",
      "Epoch 8/50\n",
      "57/57 - 2s - loss: 0.0012 - accuracy: 1.0000 - 2s/epoch - 27ms/step\n",
      "Epoch 9/50\n",
      "57/57 - 2s - loss: 8.2983e-04 - accuracy: 1.0000 - 2s/epoch - 31ms/step\n",
      "Epoch 10/50\n",
      "57/57 - 2s - loss: 6.2970e-04 - accuracy: 1.0000 - 2s/epoch - 34ms/step\n",
      "Epoch 11/50\n",
      "57/57 - 2s - loss: 4.9708e-04 - accuracy: 1.0000 - 2s/epoch - 28ms/step\n",
      "Epoch 12/50\n",
      "57/57 - 2s - loss: 4.0285e-04 - accuracy: 1.0000 - 2s/epoch - 28ms/step\n",
      "Epoch 13/50\n",
      "57/57 - 1s - loss: 3.3391e-04 - accuracy: 1.0000 - 1s/epoch - 25ms/step\n",
      "Epoch 14/50\n",
      "57/57 - 2s - loss: 2.8125e-04 - accuracy: 1.0000 - 2s/epoch - 29ms/step\n",
      "Epoch 15/50\n",
      "57/57 - 2s - loss: 2.4031e-04 - accuracy: 1.0000 - 2s/epoch - 29ms/step\n",
      "Epoch 16/50\n",
      "57/57 - 2s - loss: 2.0729e-04 - accuracy: 1.0000 - 2s/epoch - 31ms/step\n",
      "Epoch 17/50\n",
      "57/57 - 2s - loss: 1.8025e-04 - accuracy: 1.0000 - 2s/epoch - 31ms/step\n",
      "Epoch 18/50\n",
      "57/57 - 2s - loss: 1.5805e-04 - accuracy: 1.0000 - 2s/epoch - 32ms/step\n",
      "Epoch 19/50\n",
      "57/57 - 2s - loss: 1.3980e-04 - accuracy: 1.0000 - 2s/epoch - 30ms/step\n",
      "Epoch 20/50\n",
      "57/57 - 2s - loss: 1.2472e-04 - accuracy: 1.0000 - 2s/epoch - 29ms/step\n",
      "Epoch 21/50\n",
      "57/57 - 2s - loss: 1.1196e-04 - accuracy: 1.0000 - 2s/epoch - 30ms/step\n",
      "Epoch 22/50\n",
      "57/57 - 2s - loss: 1.0084e-04 - accuracy: 1.0000 - 2s/epoch - 31ms/step\n",
      "Epoch 23/50\n",
      "57/57 - 2s - loss: 9.1122e-05 - accuracy: 1.0000 - 2s/epoch - 31ms/step\n",
      "Epoch 24/50\n",
      "57/57 - 2s - loss: 7.6969e-05 - accuracy: 1.0000 - 2s/epoch - 29ms/step\n",
      "Epoch 25/50\n",
      "57/57 - 2s - loss: 6.9629e-05 - accuracy: 1.0000 - 2s/epoch - 28ms/step\n",
      "Epoch 26/50\n",
      "57/57 - 2s - loss: 6.4171e-05 - accuracy: 1.0000 - 2s/epoch - 29ms/step\n",
      "Epoch 27/50\n",
      "57/57 - 2s - loss: 5.9230e-05 - accuracy: 1.0000 - 2s/epoch - 27ms/step\n",
      "Epoch 28/50\n",
      "57/57 - 1s - loss: 5.4832e-05 - accuracy: 1.0000 - 1s/epoch - 26ms/step\n",
      "Epoch 29/50\n",
      "57/57 - 1s - loss: 5.0816e-05 - accuracy: 1.0000 - 1s/epoch - 26ms/step\n",
      "Epoch 30/50\n",
      "57/57 - 2s - loss: 4.7299e-05 - accuracy: 1.0000 - 2s/epoch - 26ms/step\n",
      "Epoch 31/50\n",
      "57/57 - 2s - loss: 4.4023e-05 - accuracy: 1.0000 - 2s/epoch - 27ms/step\n",
      "Epoch 32/50\n",
      "57/57 - 2s - loss: 4.1052e-05 - accuracy: 1.0000 - 2s/epoch - 33ms/step\n",
      "Epoch 33/50\n",
      "57/57 - 2s - loss: 3.8389e-05 - accuracy: 1.0000 - 2s/epoch - 33ms/step\n",
      "Epoch 34/50\n",
      "57/57 - 2s - loss: 3.5946e-05 - accuracy: 1.0000 - 2s/epoch - 34ms/step\n",
      "Epoch 35/50\n",
      "57/57 - 2s - loss: 3.3697e-05 - accuracy: 1.0000 - 2s/epoch - 31ms/step\n",
      "Epoch 36/50\n",
      "57/57 - 2s - loss: 3.1666e-05 - accuracy: 1.0000 - 2s/epoch - 34ms/step\n",
      "Epoch 37/50\n",
      "57/57 - 2s - loss: 2.9734e-05 - accuracy: 1.0000 - 2s/epoch - 33ms/step\n",
      "Epoch 38/50\n",
      "57/57 - 2s - loss: 2.7983e-05 - accuracy: 1.0000 - 2s/epoch - 32ms/step\n",
      "Epoch 39/50\n",
      "57/57 - 2s - loss: 2.6369e-05 - accuracy: 1.0000 - 2s/epoch - 35ms/step\n",
      "Epoch 40/50\n",
      "57/57 - 2s - loss: 2.4857e-05 - accuracy: 1.0000 - 2s/epoch - 27ms/step\n",
      "Epoch 41/50\n",
      "57/57 - 1s - loss: 2.3479e-05 - accuracy: 1.0000 - 1s/epoch - 25ms/step\n",
      "Epoch 42/50\n",
      "57/57 - 1s - loss: 2.2221e-05 - accuracy: 1.0000 - 1s/epoch - 24ms/step\n",
      "Epoch 43/50\n",
      "57/57 - 1s - loss: 2.0998e-05 - accuracy: 1.0000 - 1s/epoch - 23ms/step\n",
      "Epoch 44/50\n",
      "57/57 - 1s - loss: 1.9855e-05 - accuracy: 1.0000 - 1s/epoch - 23ms/step\n",
      "Epoch 45/50\n",
      "57/57 - 1s - loss: 1.8825e-05 - accuracy: 1.0000 - 1s/epoch - 22ms/step\n",
      "Epoch 46/50\n",
      "57/57 - 2s - loss: 1.7844e-05 - accuracy: 1.0000 - 2s/epoch - 27ms/step\n",
      "Epoch 47/50\n",
      "57/57 - 2s - loss: 1.6957e-05 - accuracy: 1.0000 - 2s/epoch - 28ms/step\n",
      "Epoch 48/50\n",
      "57/57 - 1s - loss: 1.6083e-05 - accuracy: 1.0000 - 1s/epoch - 26ms/step\n",
      "Epoch 49/50\n"
     ]
    },
    {
     "name": "stdout",
     "output_type": "stream",
     "text": [
      "57/57 - 2s - loss: 1.5297e-05 - accuracy: 1.0000 - 2s/epoch - 29ms/step\n",
      "Epoch 50/50\n",
      "57/57 - 1s - loss: 1.4538e-05 - accuracy: 1.0000 - 1s/epoch - 25ms/step\n",
      "%d accuracy: %s 0.8949999809265137\n",
      "Epoch 1/50\n",
      "57/57 - 6s - loss: 0.4857 - accuracy: 0.7839 - 6s/epoch - 110ms/step\n",
      "Epoch 2/50\n",
      "57/57 - 2s - loss: 0.0161 - accuracy: 0.9989 - 2s/epoch - 27ms/step\n",
      "Epoch 3/50\n",
      "57/57 - 2s - loss: 0.0043 - accuracy: 1.0000 - 2s/epoch - 27ms/step\n",
      "Epoch 4/50\n",
      "57/57 - 1s - loss: 0.0023 - accuracy: 1.0000 - 1s/epoch - 26ms/step\n",
      "Epoch 5/50\n",
      "57/57 - 2s - loss: 0.0015 - accuracy: 1.0000 - 2s/epoch - 27ms/step\n",
      "Epoch 6/50\n",
      "57/57 - 2s - loss: 0.0010 - accuracy: 1.0000 - 2s/epoch - 27ms/step\n",
      "Epoch 7/50\n",
      "57/57 - 2s - loss: 7.2978e-04 - accuracy: 1.0000 - 2s/epoch - 27ms/step\n",
      "Epoch 8/50\n",
      "57/57 - 2s - loss: 5.2745e-04 - accuracy: 1.0000 - 2s/epoch - 29ms/step\n",
      "Epoch 9/50\n",
      "57/57 - 1s - loss: 3.9798e-04 - accuracy: 1.0000 - 1s/epoch - 26ms/step\n",
      "Epoch 10/50\n",
      "57/57 - 1s - loss: 3.0749e-04 - accuracy: 1.0000 - 1s/epoch - 26ms/step\n",
      "Epoch 11/50\n",
      "57/57 - 1s - loss: 2.4699e-04 - accuracy: 1.0000 - 1s/epoch - 24ms/step\n",
      "Epoch 12/50\n",
      "57/57 - 2s - loss: 2.0190e-04 - accuracy: 1.0000 - 2s/epoch - 27ms/step\n",
      "Epoch 13/50\n",
      "57/57 - 1s - loss: 1.6739e-04 - accuracy: 1.0000 - 1s/epoch - 24ms/step\n",
      "Epoch 14/50\n",
      "57/57 - 1s - loss: 1.4027e-04 - accuracy: 1.0000 - 1s/epoch - 23ms/step\n",
      "Epoch 15/50\n",
      "57/57 - 1s - loss: 1.2000e-04 - accuracy: 1.0000 - 1s/epoch - 23ms/step\n",
      "Epoch 16/50\n",
      "57/57 - 1s - loss: 1.0298e-04 - accuracy: 1.0000 - 1s/epoch - 22ms/step\n",
      "Epoch 17/50\n",
      "57/57 - 1s - loss: 8.9119e-05 - accuracy: 1.0000 - 1s/epoch - 22ms/step\n",
      "Epoch 18/50\n",
      "57/57 - 1s - loss: 7.7987e-05 - accuracy: 1.0000 - 1s/epoch - 26ms/step\n",
      "Epoch 19/50\n",
      "57/57 - 2s - loss: 6.9061e-05 - accuracy: 1.0000 - 2s/epoch - 29ms/step\n",
      "Epoch 20/50\n",
      "57/57 - 2s - loss: 6.1036e-05 - accuracy: 1.0000 - 2s/epoch - 27ms/step\n",
      "Epoch 21/50\n",
      "57/57 - 2s - loss: 5.4539e-05 - accuracy: 1.0000 - 2s/epoch - 26ms/step\n",
      "Epoch 22/50\n",
      "57/57 - 1s - loss: 4.9062e-05 - accuracy: 1.0000 - 1s/epoch - 26ms/step\n",
      "Epoch 23/50\n",
      "57/57 - 1s - loss: 4.4544e-05 - accuracy: 1.0000 - 1s/epoch - 26ms/step\n",
      "Epoch 24/50\n",
      "57/57 - 2s - loss: 4.0429e-05 - accuracy: 1.0000 - 2s/epoch - 27ms/step\n",
      "Epoch 25/50\n",
      "57/57 - 1s - loss: 3.6830e-05 - accuracy: 1.0000 - 1s/epoch - 25ms/step\n",
      "Epoch 26/50\n",
      "57/57 - 1s - loss: 3.3823e-05 - accuracy: 1.0000 - 1s/epoch - 25ms/step\n",
      "Epoch 27/50\n",
      "57/57 - 1s - loss: 3.1192e-05 - accuracy: 1.0000 - 1s/epoch - 26ms/step\n",
      "Epoch 28/50\n",
      "57/57 - 1s - loss: 2.8845e-05 - accuracy: 1.0000 - 1s/epoch - 26ms/step\n",
      "Epoch 29/50\n",
      "57/57 - 1s - loss: 2.6770e-05 - accuracy: 1.0000 - 1s/epoch - 26ms/step\n",
      "Epoch 30/50\n",
      "57/57 - 2s - loss: 2.4811e-05 - accuracy: 1.0000 - 2s/epoch - 29ms/step\n",
      "Epoch 31/50\n",
      "57/57 - 1s - loss: 2.3045e-05 - accuracy: 1.0000 - 1s/epoch - 25ms/step\n",
      "Epoch 32/50\n",
      "57/57 - 1s - loss: 2.1432e-05 - accuracy: 1.0000 - 1s/epoch - 25ms/step\n",
      "Epoch 33/50\n",
      "57/57 - 1s - loss: 1.9954e-05 - accuracy: 1.0000 - 1s/epoch - 26ms/step\n",
      "Epoch 34/50\n",
      "57/57 - 2s - loss: 1.8634e-05 - accuracy: 1.0000 - 2s/epoch - 28ms/step\n",
      "Epoch 35/50\n",
      "57/57 - 2s - loss: 1.7534e-05 - accuracy: 1.0000 - 2s/epoch - 31ms/step\n",
      "Epoch 36/50\n",
      "57/57 - 2s - loss: 1.6347e-05 - accuracy: 1.0000 - 2s/epoch - 29ms/step\n",
      "Epoch 37/50\n",
      "57/57 - 1s - loss: 1.5306e-05 - accuracy: 1.0000 - 1s/epoch - 26ms/step\n",
      "Epoch 38/50\n",
      "57/57 - 1s - loss: 1.4397e-05 - accuracy: 1.0000 - 1s/epoch - 23ms/step\n",
      "Epoch 39/50\n",
      "57/57 - 1s - loss: 1.3582e-05 - accuracy: 1.0000 - 1s/epoch - 26ms/step\n",
      "Epoch 40/50\n",
      "57/57 - 1s - loss: 1.2743e-05 - accuracy: 1.0000 - 1s/epoch - 21ms/step\n",
      "Epoch 41/50\n",
      "57/57 - 1s - loss: 1.2034e-05 - accuracy: 1.0000 - 1s/epoch - 23ms/step\n",
      "Epoch 42/50\n",
      "57/57 - 1s - loss: 1.1344e-05 - accuracy: 1.0000 - 1s/epoch - 25ms/step\n",
      "Epoch 43/50\n",
      "57/57 - 2s - loss: 1.0740e-05 - accuracy: 1.0000 - 2s/epoch - 27ms/step\n",
      "Epoch 44/50\n",
      "57/57 - 1s - loss: 1.0173e-05 - accuracy: 1.0000 - 1s/epoch - 26ms/step\n",
      "Epoch 45/50\n",
      "57/57 - 1s - loss: 9.6530e-06 - accuracy: 1.0000 - 1s/epoch - 22ms/step\n",
      "Epoch 46/50\n",
      "57/57 - 1s - loss: 9.1543e-06 - accuracy: 1.0000 - 1s/epoch - 22ms/step\n",
      "Epoch 47/50\n",
      "57/57 - 1s - loss: 8.6979e-06 - accuracy: 1.0000 - 1s/epoch - 24ms/step\n",
      "Epoch 48/50\n",
      "57/57 - 2s - loss: 8.2511e-06 - accuracy: 1.0000 - 2s/epoch - 26ms/step\n",
      "Epoch 49/50\n",
      "57/57 - 1s - loss: 7.8660e-06 - accuracy: 1.0000 - 1s/epoch - 24ms/step\n",
      "Epoch 50/50\n",
      "57/57 - 1s - loss: 7.4830e-06 - accuracy: 1.0000 - 1s/epoch - 25ms/step\n",
      "%d accuracy: %s 0.8450000286102295\n",
      "Epoch 1/50\n",
      "57/57 - 5s - loss: 0.6915 - accuracy: 0.6244 - 5s/epoch - 83ms/step\n",
      "Epoch 2/50\n",
      "57/57 - 1s - loss: 0.6810 - accuracy: 0.7978 - 1s/epoch - 22ms/step\n",
      "Epoch 3/50\n",
      "57/57 - 1s - loss: 0.6611 - accuracy: 0.8717 - 1s/epoch - 21ms/step\n",
      "Epoch 4/50\n",
      "57/57 - 1s - loss: 0.6307 - accuracy: 0.9094 - 1s/epoch - 21ms/step\n",
      "Epoch 5/50\n",
      "57/57 - 1s - loss: 0.5908 - accuracy: 0.9361 - 1s/epoch - 24ms/step\n",
      "Epoch 6/50\n",
      "57/57 - 1s - loss: 0.5459 - accuracy: 0.9428 - 1s/epoch - 19ms/step\n",
      "Epoch 7/50\n",
      "57/57 - 1s - loss: 0.4978 - accuracy: 0.9483 - 1s/epoch - 21ms/step\n",
      "Epoch 8/50\n",
      "57/57 - 1s - loss: 0.4507 - accuracy: 0.9533 - 1s/epoch - 22ms/step\n",
      "Epoch 9/50\n",
      "57/57 - 1s - loss: 0.4054 - accuracy: 0.9583 - 1s/epoch - 26ms/step\n",
      "Epoch 10/50\n",
      "57/57 - 1s - loss: 0.3630 - accuracy: 0.9661 - 1s/epoch - 25ms/step\n",
      "Epoch 11/50\n",
      "57/57 - 1s - loss: 0.3261 - accuracy: 0.9706 - 1s/epoch - 25ms/step\n",
      "Epoch 12/50\n",
      "57/57 - 1s - loss: 0.2910 - accuracy: 0.9783 - 1s/epoch - 21ms/step\n",
      "Epoch 13/50\n",
      "57/57 - 1s - loss: 0.2607 - accuracy: 0.9833 - 1s/epoch - 22ms/step\n",
      "Epoch 14/50\n",
      "57/57 - 1s - loss: 0.2341 - accuracy: 0.9844 - 1s/epoch - 25ms/step\n",
      "Epoch 15/50\n",
      "57/57 - 1s - loss: 0.2117 - accuracy: 0.9883 - 1s/epoch - 23ms/step\n",
      "Epoch 16/50\n",
      "57/57 - 1s - loss: 0.1889 - accuracy: 0.9894 - 1s/epoch - 22ms/step\n",
      "Epoch 17/50\n",
      "57/57 - 1s - loss: 0.1704 - accuracy: 0.9922 - 1s/epoch - 21ms/step\n",
      "Epoch 18/50\n",
      "57/57 - 1s - loss: 0.1538 - accuracy: 0.9928 - 1s/epoch - 22ms/step\n",
      "Epoch 19/50\n",
      "57/57 - 1s - loss: 0.1392 - accuracy: 0.9950 - 1s/epoch - 22ms/step\n",
      "Epoch 20/50\n",
      "57/57 - 1s - loss: 0.1254 - accuracy: 0.9967 - 1s/epoch - 20ms/step\n",
      "Epoch 21/50\n",
      "57/57 - 1s - loss: 0.1143 - accuracy: 0.9978 - 1s/epoch - 21ms/step\n",
      "Epoch 22/50\n",
      "57/57 - 1s - loss: 0.1036 - accuracy: 0.9967 - 1s/epoch - 22ms/step\n",
      "Epoch 23/50\n",
      "57/57 - 1s - loss: 0.0943 - accuracy: 0.9983 - 1s/epoch - 21ms/step\n",
      "Epoch 24/50\n",
      "57/57 - 1s - loss: 0.0862 - accuracy: 0.9983 - 1s/epoch - 23ms/step\n",
      "Epoch 25/50\n",
      "57/57 - 1s - loss: 0.0784 - accuracy: 0.9994 - 1s/epoch - 22ms/step\n",
      "Epoch 26/50\n",
      "57/57 - 1s - loss: 0.0721 - accuracy: 0.9994 - 1s/epoch - 22ms/step\n",
      "Epoch 27/50\n",
      "57/57 - 1s - loss: 0.0658 - accuracy: 1.0000 - 1s/epoch - 21ms/step\n",
      "Epoch 28/50\n",
      "57/57 - 1s - loss: 0.0604 - accuracy: 1.0000 - 1s/epoch - 21ms/step\n",
      "Epoch 29/50\n",
      "57/57 - 1s - loss: 0.0553 - accuracy: 1.0000 - 1s/epoch - 21ms/step\n",
      "Epoch 30/50\n",
      "57/57 - 1s - loss: 0.0513 - accuracy: 1.0000 - 1s/epoch - 22ms/step\n",
      "Epoch 31/50\n",
      "57/57 - 1s - loss: 0.0471 - accuracy: 1.0000 - 1s/epoch - 22ms/step\n",
      "Epoch 32/50\n",
      "57/57 - 1s - loss: 0.0436 - accuracy: 1.0000 - 1s/epoch - 21ms/step\n",
      "Epoch 33/50\n",
      "57/57 - 1s - loss: 0.0405 - accuracy: 1.0000 - 1s/epoch - 23ms/step\n",
      "Epoch 34/50\n",
      "57/57 - 1s - loss: 0.0373 - accuracy: 1.0000 - 1s/epoch - 20ms/step\n",
      "Epoch 35/50\n",
      "57/57 - 1s - loss: 0.0346 - accuracy: 1.0000 - 1s/epoch - 20ms/step\n",
      "Epoch 36/50\n",
      "57/57 - 1s - loss: 0.0322 - accuracy: 1.0000 - 1s/epoch - 23ms/step\n",
      "Epoch 37/50\n",
      "57/57 - 1s - loss: 0.0299 - accuracy: 1.0000 - 1s/epoch - 21ms/step\n",
      "Epoch 38/50\n",
      "57/57 - 1s - loss: 0.0279 - accuracy: 1.0000 - 1s/epoch - 23ms/step\n",
      "Epoch 39/50\n",
      "57/57 - 1s - loss: 0.0259 - accuracy: 1.0000 - 1s/epoch - 22ms/step\n",
      "Epoch 40/50\n",
      "57/57 - 1s - loss: 0.0243 - accuracy: 1.0000 - 1s/epoch - 21ms/step\n",
      "Epoch 41/50\n",
      "57/57 - 1s - loss: 0.0227 - accuracy: 1.0000 - 1s/epoch - 21ms/step\n",
      "Epoch 42/50\n",
      "57/57 - 1s - loss: 0.0212 - accuracy: 1.0000 - 1s/epoch - 21ms/step\n",
      "Epoch 43/50\n",
      "57/57 - 1s - loss: 0.0199 - accuracy: 1.0000 - 1s/epoch - 22ms/step\n",
      "Epoch 44/50\n",
      "57/57 - 1s - loss: 0.0187 - accuracy: 1.0000 - 1s/epoch - 22ms/step\n",
      "Epoch 45/50\n",
      "57/57 - 1s - loss: 0.0175 - accuracy: 1.0000 - 1s/epoch - 21ms/step\n",
      "Epoch 46/50\n",
      "57/57 - 1s - loss: 0.0165 - accuracy: 1.0000 - 1s/epoch - 22ms/step\n",
      "Epoch 47/50\n",
      "57/57 - 1s - loss: 0.0155 - accuracy: 1.0000 - 1s/epoch - 22ms/step\n",
      "Epoch 48/50\n",
      "57/57 - 1s - loss: 0.0146 - accuracy: 1.0000 - 1s/epoch - 18ms/step\n"
     ]
    },
    {
     "name": "stdout",
     "output_type": "stream",
     "text": [
      "Epoch 49/50\n",
      "57/57 - 1s - loss: 0.0138 - accuracy: 1.0000 - 955ms/epoch - 17ms/step\n",
      "Epoch 50/50\n",
      "57/57 - 1s - loss: 0.0130 - accuracy: 1.0000 - 1s/epoch - 20ms/step\n",
      "%d accuracy: %s 0.9100000262260437\n",
      "       binary  count  tfidf  freq\n",
      "count   1.000  1.000  1.000  1.00\n",
      "mean    0.905  0.895  0.845  0.91\n",
      "std       NaN    NaN    NaN   NaN\n",
      "min     0.905  0.895  0.845  0.91\n",
      "25%     0.905  0.895  0.845  0.91\n",
      "50%     0.905  0.895  0.845  0.91\n",
      "75%     0.905  0.895  0.845  0.91\n",
      "max     0.905  0.895  0.845  0.91\n"
     ]
    },
    {
     "data": {
      "image/png": "[encoded data removed]",
      "text/plain": [
       "<Figure size 640x480 with 1 Axes>"
      ]
     },
     "metadata": {},
     "output_type": "display_data"
    }
   ],
   "source": [
    "modes = ['binary', 'count', 'tfidf', 'freq']\n",
    "results = DataFrame()\n",
    "for mode in modes:\n",
    "  # prepare data for mode\n",
    "  Xtrain, Xtest = prepare_data(train_docs, test_docs, mode)\n",
    "  # evaluate model on data for mode\n",
    "  results[mode] = evaluate_mode(Xtrain, ytrain, Xtest, ytest)\n",
    "# summarize results\n",
    "print(results.describe())\n",
    "# plot results\n",
    "results.boxplot()\n",
    "pyplot.show()"
   ]
  },
  {
   "cell_type": "code",
   "execution_count": 19,
   "metadata": {
    "id": "RcjNvvYrw8mR"
   },
   "outputs": [],
   "source": [
    "def predict_sentiment(review, vocab, tokenizer, model):\n",
    "  # clean\n",
    "  tokens = clean_doc(review)\n",
    "  # filter by vocab\n",
    "  tokens = [w for w in tokens if w in vocab]\n",
    "  # convert to line\n",
    "  line = ' '.join(tokens)\n",
    "  # encode\n",
    "  encoded = tokenizer.texts_to_matrix([line], mode='freq')\n",
    "  # prediction\n",
    "  yhat = model.predict(encoded, verbose=0)\n",
    "  return round(yhat[0,0])"
   ]
  },
  {
   "cell_type": "code",
   "execution_count": 20,
   "metadata": {
    "id": "UiqG1KopmPho"
   },
   "outputs": [],
   "source": [
    "# fit a tokenizer\n",
    "def create_tokenizer(lines):\n",
    "  tokenizer = Tokenizer()\n",
    "  tokenizer.fit_on_texts(lines)\n",
    "  return tokenizer\n",
    "tokenizer = create_tokenizer(train_docs)"
   ]
  },
  {
   "cell_type": "code",
   "execution_count": 21,
   "metadata": {
    "colab": {
     "base_uri": "https://localhost:8080/"
    },
    "id": "KQBWoDkooCoa",
    "outputId": "aae4c39b-a102-4f2e-8742-d4b8273fab5d"
   },
   "outputs": [
    {
     "name": "stdout",
     "output_type": "stream",
     "text": [
      "Epoch 1/25\n",
      "57/57 - 3s - loss: 0.6924 - accuracy: 0.5328 - 3s/epoch - 46ms/step\n",
      "Epoch 2/25\n",
      "57/57 - 1s - loss: 0.6873 - accuracy: 0.6444 - 1s/epoch - 20ms/step\n",
      "Epoch 3/25\n",
      "57/57 - 1s - loss: 0.6758 - accuracy: 0.9006 - 1s/epoch - 21ms/step\n",
      "Epoch 4/25\n",
      "57/57 - 1s - loss: 0.6575 - accuracy: 0.8417 - 1s/epoch - 22ms/step\n",
      "Epoch 5/25\n",
      "57/57 - 1s - loss: 0.6319 - accuracy: 0.9294 - 1s/epoch - 21ms/step\n",
      "Epoch 6/25\n",
      "57/57 - 1s - loss: 0.6021 - accuracy: 0.9267 - 1s/epoch - 20ms/step\n",
      "Epoch 7/25\n",
      "57/57 - 1s - loss: 0.5685 - accuracy: 0.9406 - 1s/epoch - 21ms/step\n",
      "Epoch 8/25\n",
      "57/57 - 1s - loss: 0.5331 - accuracy: 0.9506 - 1s/epoch - 21ms/step\n",
      "Epoch 9/25\n",
      "57/57 - 1s - loss: 0.4959 - accuracy: 0.9550 - 1s/epoch - 20ms/step\n",
      "Epoch 10/25\n",
      "57/57 - 1s - loss: 0.4604 - accuracy: 0.9561 - 1s/epoch - 20ms/step\n",
      "Epoch 11/25\n",
      "57/57 - 1s - loss: 0.4251 - accuracy: 0.9622 - 1s/epoch - 22ms/step\n",
      "Epoch 12/25\n",
      "57/57 - 1s - loss: 0.3917 - accuracy: 0.9650 - 1s/epoch - 20ms/step\n",
      "Epoch 13/25\n",
      "57/57 - 1s - loss: 0.3609 - accuracy: 0.9661 - 1s/epoch - 20ms/step\n",
      "Epoch 14/25\n",
      "57/57 - 1s - loss: 0.3321 - accuracy: 0.9728 - 1s/epoch - 20ms/step\n",
      "Epoch 15/25\n",
      "57/57 - 1s - loss: 0.3052 - accuracy: 0.9783 - 1s/epoch - 20ms/step\n",
      "Epoch 16/25\n",
      "57/57 - 1s - loss: 0.2814 - accuracy: 0.9783 - 1s/epoch - 22ms/step\n",
      "Epoch 17/25\n",
      "57/57 - 1s - loss: 0.2583 - accuracy: 0.9844 - 1s/epoch - 21ms/step\n",
      "Epoch 18/25\n",
      "57/57 - 1s - loss: 0.2382 - accuracy: 0.9861 - 1s/epoch - 20ms/step\n",
      "Epoch 19/25\n",
      "57/57 - 1s - loss: 0.2193 - accuracy: 0.9878 - 1s/epoch - 20ms/step\n",
      "Epoch 20/25\n",
      "57/57 - 1s - loss: 0.2026 - accuracy: 0.9911 - 1s/epoch - 21ms/step\n",
      "Epoch 21/25\n",
      "57/57 - 1s - loss: 0.1871 - accuracy: 0.9917 - 1s/epoch - 21ms/step\n",
      "Epoch 22/25\n",
      "57/57 - 1s - loss: 0.1728 - accuracy: 0.9917 - 1s/epoch - 21ms/step\n",
      "Epoch 23/25\n",
      "57/57 - 1s - loss: 0.1602 - accuracy: 0.9939 - 1s/epoch - 21ms/step\n",
      "Epoch 24/25\n",
      "57/57 - 1s - loss: 0.1479 - accuracy: 0.9950 - 1s/epoch - 22ms/step\n",
      "Epoch 25/25\n",
      "57/57 - 1s - loss: 0.1370 - accuracy: 0.9956 - 1s/epoch - 23ms/step\n"
     ]
    },
    {
     "data": {
      "text/plain": [
       "<keras.callbacks.History at 0x2cd767747f0>"
      ]
     },
     "execution_count": 21,
     "metadata": {},
     "output_type": "execute_result"
    }
   ],
   "source": [
    "n_words = Xtest.shape[1]\n",
    "\n",
    "model = Sequential()\n",
    "model.add(Dense(50, input_shape=(n_words,), activation='relu'))\n",
    "model.add(Dense(1, activation='sigmoid'))\n",
    "# compile network\n",
    "model.compile(loss='binary_crossentropy', optimizer='adam', metrics=['accuracy'])\n",
    "# fit network\n",
    "model.fit(Xtrain, ytrain, epochs=25, verbose=2)"
   ]
  },
  {
   "cell_type": "code",
   "execution_count": 22,
   "metadata": {
    "colab": {
     "base_uri": "https://localhost:8080/"
    },
    "id": "irU_nbQ3xA2o",
    "outputId": "76164621-185a-48ff-a07b-074c14515d8d"
   },
   "outputs": [
    {
     "name": "stdout",
     "output_type": "stream",
     "text": [
      "1\n",
      "0\n"
     ]
    }
   ],
   "source": [
    "text = 'Best movie ever!'\n",
    "print(predict_sentiment(text, vocab, tokenizer, model))\n",
    "# test negative text\n",
    "text = 'This is a bad movie.'\n",
    "print(predict_sentiment(text, vocab, tokenizer, model))"
   ]
  },
  {
   "cell_type": "code",
   "execution_count": null,
   "metadata": {},
   "outputs": [],
   "source": []
  }
 ],
 "metadata": {
  "colab": {
   "provenance": []
  },
  "kernelspec": {
   "display_name": "Python 3 (ipykernel)",
   "language": "python",
   "name": "python3"
  },
  "language_info": {
   "codemirror_mode": {
    "name": "ipython",
    "version": 3
   },
   "file_extension": ".py",
   "mimetype": "text/x-python",
   "name": "python",
   "nbconvert_exporter": "python",
   "pygments_lexer": "ipython3",
   "version": "3.10.4"
  }
 },
 "nbformat": 4,
 "nbformat_minor": 1
}
