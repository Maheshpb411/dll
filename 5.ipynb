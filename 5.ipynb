{
 "cells": [
  {
   "cell_type": "code",
   "execution_count": 1,
   "metadata": {
    "id": "NScvx8UVrziP"
   },
   "outputs": [],
   "source": [
    "import re\n",
    "import numpy as np\n",
    "import matplotlib.pyplot as plt\n",
    "\n",
    "sentences = \"C:/Users/Mahi's Pc/cnn/data.txt\""
   ]
  },
  {
   "cell_type": "code",
   "execution_count": 7,
   "metadata": {
    "colab": {
     "base_uri": "https://localhost:8080/"
    },
    "id": "DjrsQXBYr4Xy",
    "outputId": "2ea89905-4feb-413d-fee8-4cd696a396fb"
   },
   "outputs": [
    {
     "name": "stdout",
     "output_type": "stream",
     "text": [
      "Thanks to a hands-on guide introducing programming\n",
      " fundamentals alongside topics in computational \n",
      " linguistics, plus comprehensive API documentation,\n",
      " uitable for linguists, engineers, students, \n",
      " educators, researchers, and industry users alike. \n",
      " NLTK is available for Windows, Mac OS X, and Linux. \n",
      "Best of all, NLTK is a free, open source, community-driven project.\n",
      "\n",
      "NLTK has been called “a wonderful tool for teaching, and working in, \n",
      "computational linguistics using Python,” and “an amazing library to \n",
      "play with natural language.”\n"
     ]
    }
   ],
   "source": [
    "file = open(\"data.txt\",'r',encoding='utf-8')\n",
    "s = \"\"\n",
    "\n",
    "for i in file:\n",
    "    s = s+i\n",
    "\n",
    "# for i in file :\n",
    "#   s=s+i;\n",
    "print(s)"
   ]
  },
  {
   "cell_type": "code",
   "execution_count": 8,
   "metadata": {
    "id": "JQXr-GUwr6uh"
   },
   "outputs": [],
   "source": [
    "sentences = s"
   ]
  },
  {
   "cell_type": "code",
   "execution_count": 10,
   "metadata": {
    "colab": {
     "base_uri": "https://localhost:8080/"
    },
    "id": "jnWEoGeXQn6c",
    "outputId": "2825da09-25a1-479d-f259-bd4568e62464"
   },
   "outputs": [
    {
     "name": "stdout",
     "output_type": "stream",
     "text": [
      "Thanks to a hands-on guide introducing programming\n",
      " fundamentals alongside topics in computational \n",
      " linguistics, plus comprehensive API documentation,\n",
      " uitable for linguists, engineers, students, \n",
      " educators, researchers, and industry users alike. \n",
      " NLTK is available for Windows, Mac OS X, and Linux. \n",
      "Best of all, NLTK is a free, open source, community-driven project.\n",
      "\n",
      "NLTK has been called “a wonderful tool for teaching, and working in, \n",
      "computational linguistics using Python,” and “an amazing library to \n",
      "play with natural language.”\n"
     ]
    },
    {
     "name": "stderr",
     "output_type": "stream",
     "text": [
      "[nltk_data] Downloading package punkt to C:\\Users\\Mahi's\n",
      "[nltk_data]     Pc\\AppData\\Roaming\\nltk_data...\n",
      "[nltk_data]   Package punkt is already up-to-date!\n"
     ]
    }
   ],
   "source": [
    "import nltk\n",
    "nltk.download('punkt')\n",
    "import re\n",
    "import numpy as np\n",
    "\n",
    "# execute the text here as :\n",
    "file = open('data.txt','r',encoding='utf-8')\n",
    "s = \"\"\n",
    "\n",
    "for i in file :\n",
    "  s=s+i;\n",
    "print(s)\n",
    "dataset = nltk.sent_tokenize(s)\n",
    "for i in range(len(dataset)):\n",
    "\tdataset[i] = dataset[i].lower()\n",
    "\tdataset[i] = re.sub(r'\\W', ' ', dataset[i])\n",
    "\tdataset[i] = re.sub(r'\\s+', ' ', dataset[i])"
   ]
  },
  {
   "cell_type": "code",
   "execution_count": 11,
   "metadata": {
    "id": "bKFP2iYiQxOI"
   },
   "outputs": [],
   "source": [
    "word2count = {}\n",
    "for data in dataset:\n",
    "\twords = nltk.word_tokenize(data)\n",
    "\tfor word in words:\n",
    "\t\tif word not in word2count.keys():\n",
    "\t\t\tword2count[word] = 1\n",
    "\t\telse:\n",
    "\t\t\tword2count[word] += 1"
   ]
  },
  {
   "cell_type": "code",
   "execution_count": 12,
   "metadata": {
    "colab": {
     "base_uri": "https://localhost:8080/"
    },
    "id": "e6_g81qsQxZU",
    "outputId": "29a9ecbe-4c2a-465f-f911-be8ab834f500"
   },
   "outputs": [
    {
     "data": {
      "text/plain": [
       "{'thanks': 1,\n",
       " 'to': 2,\n",
       " 'a': 3,\n",
       " 'hands': 1,\n",
       " 'on': 1,\n",
       " 'guide': 1,\n",
       " 'introducing': 1,\n",
       " 'programming': 1,\n",
       " 'fundamentals': 1,\n",
       " 'alongside': 1,\n",
       " 'topics': 1,\n",
       " 'in': 2,\n",
       " 'computational': 2,\n",
       " 'linguistics': 2,\n",
       " 'plus': 1,\n",
       " 'comprehensive': 1,\n",
       " 'api': 1,\n",
       " 'documentation': 1,\n",
       " 'uitable': 1,\n",
       " 'for': 3,\n",
       " 'linguists': 1,\n",
       " 'engineers': 1,\n",
       " 'students': 1,\n",
       " 'educators': 1,\n",
       " 'researchers': 1,\n",
       " 'and': 4,\n",
       " 'industry': 1,\n",
       " 'users': 1,\n",
       " 'alike': 1,\n",
       " 'nltk': 3,\n",
       " 'is': 2,\n",
       " 'available': 1,\n",
       " 'windows': 1,\n",
       " 'mac': 1,\n",
       " 'os': 1,\n",
       " 'x': 1,\n",
       " 'linux': 1,\n",
       " 'best': 1,\n",
       " 'of': 1,\n",
       " 'all': 1,\n",
       " 'free': 1,\n",
       " 'open': 1,\n",
       " 'source': 1,\n",
       " 'community': 1,\n",
       " 'driven': 1,\n",
       " 'project': 1,\n",
       " 'has': 1,\n",
       " 'been': 1,\n",
       " 'called': 1,\n",
       " 'wonderful': 1,\n",
       " 'tool': 1,\n",
       " 'teaching': 1,\n",
       " 'working': 1,\n",
       " 'using': 1,\n",
       " 'python': 1,\n",
       " 'an': 1,\n",
       " 'amazing': 1,\n",
       " 'library': 1,\n",
       " 'play': 1,\n",
       " 'with': 1,\n",
       " 'natural': 1,\n",
       " 'language': 1}"
      ]
     },
     "execution_count": 12,
     "metadata": {},
     "output_type": "execute_result"
    }
   ],
   "source": [
    "word2count"
   ]
  },
  {
   "cell_type": "code",
   "execution_count": 13,
   "metadata": {
    "colab": {
     "base_uri": "https://localhost:8080/",
     "height": 88
    },
    "id": "rPpahruHsyNa",
    "outputId": "40fc17bc-fc1b-4830-d6e9-d9fc8f2d095a"
   },
   "outputs": [
    {
     "data": {
      "text/plain": [
       "'thanks to hands on guide introducing programming fundamentals alongside topics in computational linguistics plus comprehensive api documentation uitable for linguists engineers students educators researchers and industry users alike nltk is available for windows mac os and linux best of all nltk is free open source community driven project nltk has been called wonderful tool for teaching and working in computational linguistics using python and an amazing library to play with natural language'"
      ]
     },
     "execution_count": 13,
     "metadata": {},
     "output_type": "execute_result"
    }
   ],
   "source": [
    "sentences = re.sub('[^A-Za-z0-9]+', ' ', sentences)\n",
    "\n",
    "sentences = re.sub(r'(?:^| )\\w(?:$| )', ' ', sentences).strip()\n",
    "\n",
    "sentences = sentences.lower()\n",
    "sentences"
   ]
  },
  {
   "cell_type": "code",
   "execution_count": 14,
   "metadata": {
    "colab": {
     "base_uri": "https://localhost:8080/"
    },
    "id": "b1D7Y4tjs2ZT",
    "outputId": "88332966-e6a4-4a16-f715-1b9e6fb347e6"
   },
   "outputs": [
    {
     "data": {
      "text/plain": [
       "{'alike',\n",
       " 'all',\n",
       " 'alongside',\n",
       " 'amazing',\n",
       " 'an',\n",
       " 'and',\n",
       " 'api',\n",
       " 'available',\n",
       " 'been',\n",
       " 'best',\n",
       " 'called',\n",
       " 'community',\n",
       " 'comprehensive',\n",
       " 'computational',\n",
       " 'documentation',\n",
       " 'driven',\n",
       " 'educators',\n",
       " 'engineers',\n",
       " 'for',\n",
       " 'free',\n",
       " 'fundamentals',\n",
       " 'guide',\n",
       " 'hands',\n",
       " 'has',\n",
       " 'in',\n",
       " 'industry',\n",
       " 'introducing',\n",
       " 'is',\n",
       " 'language',\n",
       " 'library',\n",
       " 'linguistics',\n",
       " 'linguists',\n",
       " 'linux',\n",
       " 'mac',\n",
       " 'natural',\n",
       " 'nltk',\n",
       " 'of',\n",
       " 'on',\n",
       " 'open',\n",
       " 'os',\n",
       " 'play',\n",
       " 'plus',\n",
       " 'programming',\n",
       " 'project',\n",
       " 'python',\n",
       " 'researchers',\n",
       " 'source',\n",
       " 'students',\n",
       " 'teaching',\n",
       " 'thanks',\n",
       " 'to',\n",
       " 'tool',\n",
       " 'topics',\n",
       " 'uitable',\n",
       " 'users',\n",
       " 'using',\n",
       " 'windows',\n",
       " 'with',\n",
       " 'wonderful',\n",
       " 'working'}"
      ]
     },
     "execution_count": 14,
     "metadata": {},
     "output_type": "execute_result"
    }
   ],
   "source": [
    "words = sentences.split()\n",
    "vocab = set(words)\n",
    "vocab_size = len(vocab)\n",
    "embed_dim = 10\n",
    "context_size = 2\n",
    "vocab"
   ]
  },
  {
   "cell_type": "code",
   "execution_count": 15,
   "metadata": {
    "id": "4HMnKTvnINcA"
   },
   "outputs": [],
   "source": [
    "def calculateBOW(vocab,words):\n",
    "  tf_diz = dict.fromkeys(vocab,0)\n",
    "  for word in words:\n",
    "      tf_diz[word]=words.count(word)\n",
    "  return tf_diz"
   ]
  },
  {
   "cell_type": "code",
   "execution_count": 16,
   "metadata": {
    "colab": {
     "base_uri": "https://localhost:8080/",
     "height": 174
    },
    "id": "jBAbd3_XOgst",
    "outputId": "dfd61070-eef1-40b2-d540-c92b18e6ecc3"
   },
   "outputs": [
    {
     "data": {
      "text/html": [
       "<div>\n",
       "<style scoped>\n",
       "    .dataframe tbody tr th:only-of-type {\n",
       "        vertical-align: middle;\n",
       "    }\n",
       "\n",
       "    .dataframe tbody tr th {\n",
       "        vertical-align: top;\n",
       "    }\n",
       "\n",
       "    .dataframe thead th {\n",
       "        text-align: right;\n",
       "    }\n",
       "</style>\n",
       "<table border=\"1\" class=\"dataframe\">\n",
       "  <thead>\n",
       "    <tr style=\"text-align: right;\">\n",
       "      <th></th>\n",
       "      <th>in</th>\n",
       "      <th>to</th>\n",
       "      <th>nltk</th>\n",
       "      <th>open</th>\n",
       "      <th>introducing</th>\n",
       "      <th>source</th>\n",
       "      <th>students</th>\n",
       "      <th>thanks</th>\n",
       "      <th>programming</th>\n",
       "      <th>documentation</th>\n",
       "      <th>...</th>\n",
       "      <th>called</th>\n",
       "      <th>tool</th>\n",
       "      <th>library</th>\n",
       "      <th>industry</th>\n",
       "      <th>has</th>\n",
       "      <th>topics</th>\n",
       "      <th>for</th>\n",
       "      <th>is</th>\n",
       "      <th>been</th>\n",
       "      <th>hands</th>\n",
       "    </tr>\n",
       "  </thead>\n",
       "  <tbody>\n",
       "    <tr>\n",
       "      <th>0</th>\n",
       "      <td>2</td>\n",
       "      <td>2</td>\n",
       "      <td>3</td>\n",
       "      <td>1</td>\n",
       "      <td>1</td>\n",
       "      <td>1</td>\n",
       "      <td>1</td>\n",
       "      <td>1</td>\n",
       "      <td>1</td>\n",
       "      <td>1</td>\n",
       "      <td>...</td>\n",
       "      <td>1</td>\n",
       "      <td>1</td>\n",
       "      <td>1</td>\n",
       "      <td>1</td>\n",
       "      <td>1</td>\n",
       "      <td>1</td>\n",
       "      <td>3</td>\n",
       "      <td>2</td>\n",
       "      <td>1</td>\n",
       "      <td>1</td>\n",
       "    </tr>\n",
       "  </tbody>\n",
       "</table>\n",
       "<p>1 rows × 60 columns</p>\n",
       "</div>"
      ],
      "text/plain": [
       "   in  to  nltk  open  introducing  source  students  thanks  programming  \\\n",
       "0   2   2     3     1            1       1         1       1            1   \n",
       "\n",
       "   documentation  ...  called  tool  library  industry  has  topics  for  is  \\\n",
       "0              1  ...       1     1        1         1    1       1    3   2   \n",
       "\n",
       "   been  hands  \n",
       "0     1      1  \n",
       "\n",
       "[1 rows x 60 columns]"
      ]
     },
     "execution_count": 16,
     "metadata": {},
     "output_type": "execute_result"
    }
   ],
   "source": [
    "import pandas as pd\n",
    "bow1 = calculateBOW(vocab,words)\n",
    "df_bow = pd.DataFrame([bow1])\n",
    "df_bow.head()"
   ]
  },
  {
   "cell_type": "code",
   "execution_count": 17,
   "metadata": {
    "id": "9_Bsiy69s5Ht"
   },
   "outputs": [],
   "source": [
    "word_to_ix = {word: i for i, word in enumerate(vocab)}\n",
    "ix_to_word = {i: word for i, word in enumerate(vocab)}"
   ]
  },
  {
   "cell_type": "code",
   "execution_count": 19,
   "metadata": {
    "colab": {
     "base_uri": "https://localhost:8080/"
    },
    "id": "wTpB1-shs7tX",
    "outputId": "59f0707f-c457-4215-f8bd-054741207de1"
   },
   "outputs": [
    {
     "name": "stdout",
     "output_type": "stream",
     "text": [
      "[(['thanks', 'to', 'on', 'guide'], 'hands'), (['to', 'hands', 'guide', 'introducing'], 'on'), (['hands', 'on', 'introducing', 'programming'], 'guide'), (['on', 'guide', 'programming', 'fundamentals'], 'introducing'), (['guide', 'introducing', 'fundamentals', 'alongside'], 'programming')]\n"
     ]
    }
   ],
   "source": [
    "data = []\n",
    "for i in range(2, len(words) - 2):\n",
    "    context = [words[i - 2], words[i - 1], words[i + 1], words[i + 2]]\n",
    "    target = words[i]\n",
    "    data.append((context, target))\n",
    "print(data[:5])"
   ]
  },
  {
   "cell_type": "code",
   "execution_count": null,
   "metadata": {
    "id": "oapw47UtP19m"
   },
   "outputs": [],
   "source": []
  },
  {
   "cell_type": "code",
   "execution_count": 20,
   "metadata": {
    "id": "i5Cr8uYWs-gP"
   },
   "outputs": [],
   "source": [
    "embeddings =  np.random.random_sample((vocab_size, embed_dim))"
   ]
  },
  {
   "cell_type": "code",
   "execution_count": 21,
   "metadata": {
    "id": "lcQHK6j9tBtk"
   },
   "outputs": [],
   "source": [
    "def linear(m, theta):\n",
    "    w = theta\n",
    "    return m.dot(w)"
   ]
  },
  {
   "cell_type": "code",
   "execution_count": 22,
   "metadata": {
    "id": "KhiQiHCItEFs"
   },
   "outputs": [],
   "source": [
    "def log_softmax(x):\n",
    "    e_x = np.exp(x - np.max(x))\n",
    "    return np.log(e_x / e_x.sum())\n",
    "def NLLLoss(logs, targets):\n",
    "    out = logs[range(len(targets)), targets]\n",
    "    return -out.sum()/len(out)"
   ]
  },
  {
   "cell_type": "code",
   "execution_count": 23,
   "metadata": {
    "id": "gjDCxN7dtGrd"
   },
   "outputs": [],
   "source": [
    "def log_softmax_crossentropy_with_logits(logits,target):\n",
    "\n",
    "    out = np.zeros_like(logits)\n",
    "    out[np.arange(len(logits)),target] = 1\n",
    "    \n",
    "    softmax = np.exp(logits) / np.exp(logits).sum(axis=-1,keepdims=True)\n",
    "    \n",
    "    return (- out + softmax) / logits.shape[0]"
   ]
  },
  {
   "cell_type": "code",
   "execution_count": 24,
   "metadata": {
    "id": "EJEqshrFtJPt"
   },
   "outputs": [],
   "source": [
    "def forward(context_idxs, theta):\n",
    "    m = embeddings[context_idxs].reshape(1, -1)\n",
    "    n = linear(m, theta)\n",
    "    o = log_softmax(n)\n",
    "    \n",
    "    return m, n, o"
   ]
  },
  {
   "cell_type": "code",
   "execution_count": 25,
   "metadata": {
    "id": "93MlsuLDtLl8"
   },
   "outputs": [],
   "source": [
    "def backward(preds, theta, target_idxs):\n",
    "    m, n, o = preds\n",
    "    \n",
    "    dlog = log_softmax_crossentropy_with_logits(n, target_idxs)\n",
    "    dw = m.T.dot(dlog)\n",
    "    \n",
    "    return dw"
   ]
  },
  {
   "cell_type": "code",
   "execution_count": 26,
   "metadata": {
    "id": "zm3TaikJtOSM"
   },
   "outputs": [],
   "source": [
    "def optimize(theta, grad, lr=0.03):\n",
    "    theta -= grad * lr\n",
    "    return theta"
   ]
  },
  {
   "cell_type": "code",
   "execution_count": 27,
   "metadata": {
    "id": "3CDxrBq4tQga"
   },
   "outputs": [],
   "source": [
    "theta = np.random.uniform(-1, 1, (2 * context_size * embed_dim, vocab_size))"
   ]
  },
  {
   "cell_type": "code",
   "execution_count": 28,
   "metadata": {
    "id": "_pP9Pj1ItTkL"
   },
   "outputs": [],
   "source": [
    "epoch_losses = {}\n",
    "\n",
    "for epoch in range(80):\n",
    "\n",
    "    losses =  []\n",
    "\n",
    "    for context, target in data:\n",
    "        context_idxs = np.array([word_to_ix[w] for w in context])\n",
    "        preds = forward(context_idxs, theta)\n",
    "\n",
    "        target_idxs = np.array([word_to_ix[target]])\n",
    "        loss = NLLLoss(preds[-1], target_idxs)\n",
    "\n",
    "        losses.append(loss)\n",
    "\n",
    "        grad = backward(preds, theta, target_idxs)\n",
    "        theta = optimize(theta, grad, lr=0.03)\n",
    "\n",
    "        epoch_losses[epoch] = losses"
   ]
  },
  {
   "cell_type": "code",
   "execution_count": 29,
   "metadata": {
    "colab": {
     "base_uri": "https://localhost:8080/",
     "height": 328
    },
    "id": "JTUXgRaItWrB",
    "outputId": "e160d6b9-2c66-4437-afef-94aa5a4ccde0"
   },
   "outputs": [
    {
     "data": {
      "text/plain": [
       "Text(0, 0.5, 'Losses')"
      ]
     },
     "execution_count": 29,
     "metadata": {},
     "output_type": "execute_result"
    },
    {
     "data": {
      "image/png": "[encoded data removed]",
      "text/plain": [
       "<Figure size 640x480 with 1 Axes>"
      ]
     },
     "metadata": {},
     "output_type": "display_data"
    }
   ],
   "source": [
    "ix = np.arange(0,80)\n",
    "\n",
    "fig = plt.figure()\n",
    "fig.suptitle('Epoch/Losses', fontsize=20)\n",
    "plt.plot(ix,[epoch_losses[i][0] for i in ix])\n",
    "plt.xlabel('Epochs', fontsize=12)\n",
    "plt.ylabel('Losses', fontsize=12)"
   ]
  },
  {
   "cell_type": "code",
   "execution_count": 36,
   "metadata": {
    "colab": {
     "base_uri": "https://localhost:8080/",
     "height": 36
    },
    "id": "ZJSFXBx0tY0F",
    "outputId": "b375393e-a3f8-42fc-d2ac-4102cc7b3ae1"
   },
   "outputs": [
    {
     "data": {
      "text/plain": [
       "'hands'"
      ]
     },
     "execution_count": 36,
     "metadata": {},
     "output_type": "execute_result"
    }
   ],
   "source": [
    "def predict(words):\n",
    "    context_idxs = np.array([word_to_ix[w] for w in words])\n",
    "    preds = forward(context_idxs, theta)\n",
    "    word = ix_to_word[np.argmax(preds[-1])]\n",
    "    \n",
    "    return word\n",
    "op = predict(['thanks', 'to', 'on', 'guide'])\n",
    "op"
   ]
  },
  {
   "cell_type": "code",
   "execution_count": 37,
   "metadata": {},
   "outputs": [],
   "source": [
    "s1 = \"\"\n",
    "file = open('output.txt','w')\n",
    "file.write(op)\n",
    "file.close()"
   ]
  },
  {
   "cell_type": "code",
   "execution_count": 39,
   "metadata": {
    "colab": {
     "base_uri": "https://localhost:8080/"
    },
    "id": "tHIemg6ytbgB",
    "outputId": "8dd60b43-1742-4ad7-bfef-161ea75231a4"
   },
   "outputs": [
    {
     "data": {
      "text/plain": [
       "1.0"
      ]
     },
     "execution_count": 39,
     "metadata": {},
     "output_type": "execute_result"
    }
   ],
   "source": [
    "def accuracy():\n",
    "    wrong = 0\n",
    "\n",
    "    for context, target in data:\n",
    "        if(predict(context) != target):\n",
    "            wrong += 1\n",
    "            \n",
    "    return round((1 - (wrong / len(data))),3)\n",
    "accuracy()"
   ]
  },
  {
   "cell_type": "code",
   "execution_count": null,
   "metadata": {
    "id": "uSeu8sHwuGwa"
   },
   "outputs": [],
   "source": []
  }
 ],
 "metadata": {
  "colab": {
   "provenance": []
  },
  "kernelspec": {
   "display_name": "Python 3 (ipykernel)",
   "language": "python",
   "name": "python3"
  },
  "language_info": {
   "codemirror_mode": {
    "name": "ipython",
    "version": 3
   },
   "file_extension": ".py",
   "mimetype": "text/x-python",
   "name": "python",
   "nbconvert_exporter": "python",
   "pygments_lexer": "ipython3",
   "version": "3.10.4"
  }
 },
 "nbformat": 4,
 "nbformat_minor": 1
}
